{
  "cells": [
    {
      "cell_type": "markdown",
      "metadata": {
        "id": "8OJxLMggW4Bx"
      },
      "source": [
        "# Set Up"
      ]
    },
    {
      "cell_type": "code",
      "execution_count": null,
      "metadata": {
        "colab": {
          "base_uri": "https://localhost:8080/"
        },
        "id": "lG_Rc1sEfccx",
        "outputId": "b28e0b29-0293-499e-d359-1477e390d243"
      },
      "outputs": [
        {
          "name": "stderr",
          "output_type": "stream",
          "text": [
            "[nltk_data] Downloading package stopwords to /root/nltk_data...\n",
            "[nltk_data]   Unzipping corpora/stopwords.zip.\n",
            "[nltk_data] Downloading package wordnet to /root/nltk_data...\n",
            "[nltk_data] Downloading package punkt to /root/nltk_data...\n",
            "[nltk_data]   Unzipping tokenizers/punkt.zip.\n"
          ]
        },
        {
          "name": "stdout",
          "output_type": "stream",
          "text": [
            "images.npy          100%[===================>]   1.06G  54.2MB/s    in 26s     \n",
            "labels.csv          100%[===================>]  74.51K  --.-KB/s    in 0.001s  \n"
          ]
        }
      ],
      "source": [
        "import numpy as np\n",
        "import pandas as pd\n",
        "import nltk\n",
        "from nltk.stem import WordNetLemmatizer\n",
        "from nltk.corpus import stopwords\n",
        "from nltk.tokenize import word_tokenize\n",
        " \n",
        "nltk.download('stopwords')\n",
        "nltk.download('wordnet')\n",
        "nltk.download('punkt')\n",
        "\n",
        "!wget -q --show-progress \"https://storage.googleapis.com/inspirit-ai-data-bucket-1/Data/AI%20%2B%20X/Group/PolySci%20%26%20Law/Fakeddit/images.npy\"\n",
        "!wget -q --show-progress \"https://storage.googleapis.com/inspirit-ai-data-bucket-1/Data/AI%20%2B%20X/Group/PolySci%20%26%20Law/Fakeddit/labels.csv\"\n",
        "image_data = np.load('images.npy',allow_pickle=True)\n",
        "labels = pd.read_csv('labels.csv')"
      ]
    },
    {
      "cell_type": "code",
      "execution_count": null,
      "metadata": {
        "id": "1qdH_GORYldn"
      },
      "outputs": [],
      "source": [
        "import seaborn as sns\n",
        "import matplotlib.pyplot as plt\n",
        "from sklearn.model_selection import train_test_split"
      ]
    },
    {
      "cell_type": "code",
      "execution_count": null,
      "metadata": {
        "colab": {
          "base_uri": "https://localhost:8080/",
          "height": 635
        },
        "id": "yGwOqYlNfjLZ",
        "outputId": "8533ad09-c8d5-4f09-c48c-0c7b9353b67b"
      },
      "outputs": [
        {
          "data": {
            "text/html": [
              "\n",
              "  <div id=\"df-b2a71a28-de8f-4030-bb6f-c8af146e199c\">\n",
              "    <div class=\"colab-df-container\">\n",
              "      <div>\n",
              "<style scoped>\n",
              "    .dataframe tbody tr th:only-of-type {\n",
              "        vertical-align: middle;\n",
              "    }\n",
              "\n",
              "    .dataframe tbody tr th {\n",
              "        vertical-align: top;\n",
              "    }\n",
              "\n",
              "    .dataframe thead th {\n",
              "        text-align: right;\n",
              "    }\n",
              "</style>\n",
              "<table border=\"1\" class=\"dataframe\">\n",
              "  <thead>\n",
              "    <tr style=\"text-align: right;\">\n",
              "      <th></th>\n",
              "      <th>Unnamed: 0</th>\n",
              "      <th>author</th>\n",
              "      <th>clean_title</th>\n",
              "      <th>created_utc</th>\n",
              "      <th>domain</th>\n",
              "      <th>num_comments</th>\n",
              "      <th>score</th>\n",
              "      <th>subreddit</th>\n",
              "      <th>title</th>\n",
              "      <th>upvote_ratio</th>\n",
              "      <th>2_way_label</th>\n",
              "      <th>3_way_label</th>\n",
              "      <th>6_way_label</th>\n",
              "    </tr>\n",
              "  </thead>\n",
              "  <tbody>\n",
              "    <tr>\n",
              "      <th>0</th>\n",
              "      <td>0</td>\n",
              "      <td>growingivy</td>\n",
              "      <td>sweet spider statue in des moines ia</td>\n",
              "      <td>1.570132e+09</td>\n",
              "      <td>i.redd.it</td>\n",
              "      <td>6.0</td>\n",
              "      <td>17</td>\n",
              "      <td>mildlyinteresting</td>\n",
              "      <td>Sweet spider statue in Des Moines, IA.</td>\n",
              "      <td>0.84</td>\n",
              "      <td>1</td>\n",
              "      <td>0</td>\n",
              "      <td>0</td>\n",
              "    </tr>\n",
              "    <tr>\n",
              "      <th>1</th>\n",
              "      <td>1</td>\n",
              "      <td>tedman1990</td>\n",
              "      <td>why dont you take a photo it lasts longer</td>\n",
              "      <td>1.414077e+09</td>\n",
              "      <td>NaN</td>\n",
              "      <td>NaN</td>\n",
              "      <td>48</td>\n",
              "      <td>psbattle_artwork</td>\n",
              "      <td>Why don't you take a photo, it lasts longer.</td>\n",
              "      <td>NaN</td>\n",
              "      <td>0</td>\n",
              "      <td>2</td>\n",
              "      <td>4</td>\n",
              "    </tr>\n",
              "    <tr>\n",
              "      <th>2</th>\n",
              "      <td>2</td>\n",
              "      <td>EarlESquirt</td>\n",
              "      <td>i was wondering what would beak first</td>\n",
              "      <td>1.388052e+09</td>\n",
              "      <td>NaN</td>\n",
              "      <td>NaN</td>\n",
              "      <td>360</td>\n",
              "      <td>psbattle_artwork</td>\n",
              "      <td>\"I was wondering what would beak first...\"</td>\n",
              "      <td>NaN</td>\n",
              "      <td>0</td>\n",
              "      <td>2</td>\n",
              "      <td>4</td>\n",
              "    </tr>\n",
              "    <tr>\n",
              "      <th>3</th>\n",
              "      <td>3</td>\n",
              "      <td>Panzerpup</td>\n",
              "      <td>lt george h w bush is shot down by the japanese</td>\n",
              "      <td>1.527452e+09</td>\n",
              "      <td>i.redd.it</td>\n",
              "      <td>1.0</td>\n",
              "      <td>11</td>\n",
              "      <td>fakehistoryporn</td>\n",
              "      <td>Lt. George H. W. Bush is shot down by the Japa...</td>\n",
              "      <td>0.93</td>\n",
              "      <td>0</td>\n",
              "      <td>2</td>\n",
              "      <td>2</td>\n",
              "    </tr>\n",
              "    <tr>\n",
              "      <th>4</th>\n",
              "      <td>4</td>\n",
              "      <td>ApiContraption</td>\n",
              "      <td>NaN</td>\n",
              "      <td>1.530592e+09</td>\n",
              "      <td>NaN</td>\n",
              "      <td>NaN</td>\n",
              "      <td>1</td>\n",
              "      <td>psbattle_artwork</td>\n",
              "      <td>NaN</td>\n",
              "      <td>NaN</td>\n",
              "      <td>0</td>\n",
              "      <td>2</td>\n",
              "      <td>4</td>\n",
              "    </tr>\n",
              "  </tbody>\n",
              "</table>\n",
              "</div>\n",
              "      <button class=\"colab-df-convert\" onclick=\"convertToInteractive('df-b2a71a28-de8f-4030-bb6f-c8af146e199c')\"\n",
              "              title=\"Convert this dataframe to an interactive table.\"\n",
              "              style=\"display:none;\">\n",
              "        \n",
              "  <svg xmlns=\"http://www.w3.org/2000/svg\" height=\"24px\"viewBox=\"0 0 24 24\"\n",
              "       width=\"24px\">\n",
              "    <path d=\"M0 0h24v24H0V0z\" fill=\"none\"/>\n",
              "    <path d=\"M18.56 5.44l.94 2.06.94-2.06 2.06-.94-2.06-.94-.94-2.06-.94 2.06-2.06.94zm-11 1L8.5 8.5l.94-2.06 2.06-.94-2.06-.94L8.5 2.5l-.94 2.06-2.06.94zm10 10l.94 2.06.94-2.06 2.06-.94-2.06-.94-.94-2.06-.94 2.06-2.06.94z\"/><path d=\"M17.41 7.96l-1.37-1.37c-.4-.4-.92-.59-1.43-.59-.52 0-1.04.2-1.43.59L10.3 9.45l-7.72 7.72c-.78.78-.78 2.05 0 2.83L4 21.41c.39.39.9.59 1.41.59.51 0 1.02-.2 1.41-.59l7.78-7.78 2.81-2.81c.8-.78.8-2.07 0-2.86zM5.41 20L4 18.59l7.72-7.72 1.47 1.35L5.41 20z\"/>\n",
              "  </svg>\n",
              "      </button>\n",
              "      \n",
              "  <style>\n",
              "    .colab-df-container {\n",
              "      display:flex;\n",
              "      flex-wrap:wrap;\n",
              "      gap: 12px;\n",
              "    }\n",
              "\n",
              "    .colab-df-convert {\n",
              "      background-color: #E8F0FE;\n",
              "      border: none;\n",
              "      border-radius: 50%;\n",
              "      cursor: pointer;\n",
              "      display: none;\n",
              "      fill: #1967D2;\n",
              "      height: 32px;\n",
              "      padding: 0 0 0 0;\n",
              "      width: 32px;\n",
              "    }\n",
              "\n",
              "    .colab-df-convert:hover {\n",
              "      background-color: #E2EBFA;\n",
              "      box-shadow: 0px 1px 2px rgba(60, 64, 67, 0.3), 0px 1px 3px 1px rgba(60, 64, 67, 0.15);\n",
              "      fill: #174EA6;\n",
              "    }\n",
              "\n",
              "    [theme=dark] .colab-df-convert {\n",
              "      background-color: #3B4455;\n",
              "      fill: #D2E3FC;\n",
              "    }\n",
              "\n",
              "    [theme=dark] .colab-df-convert:hover {\n",
              "      background-color: #434B5C;\n",
              "      box-shadow: 0px 1px 3px 1px rgba(0, 0, 0, 0.15);\n",
              "      filter: drop-shadow(0px 1px 2px rgba(0, 0, 0, 0.3));\n",
              "      fill: #FFFFFF;\n",
              "    }\n",
              "  </style>\n",
              "\n",
              "      <script>\n",
              "        const buttonEl =\n",
              "          document.querySelector('#df-b2a71a28-de8f-4030-bb6f-c8af146e199c button.colab-df-convert');\n",
              "        buttonEl.style.display =\n",
              "          google.colab.kernel.accessAllowed ? 'block' : 'none';\n",
              "\n",
              "        async function convertToInteractive(key) {\n",
              "          const element = document.querySelector('#df-b2a71a28-de8f-4030-bb6f-c8af146e199c');\n",
              "          const dataTable =\n",
              "            await google.colab.kernel.invokeFunction('convertToInteractive',\n",
              "                                                     [key], {});\n",
              "          if (!dataTable) return;\n",
              "\n",
              "          const docLinkHtml = 'Like what you see? Visit the ' +\n",
              "            '<a target=\"_blank\" href=https://colab.research.google.com/notebooks/data_table.ipynb>data table notebook</a>'\n",
              "            + ' to learn more about interactive tables.';\n",
              "          element.innerHTML = '';\n",
              "          dataTable['output_type'] = 'display_data';\n",
              "          await google.colab.output.renderOutput(dataTable, element);\n",
              "          const docLink = document.createElement('div');\n",
              "          docLink.innerHTML = docLinkHtml;\n",
              "          element.appendChild(docLink);\n",
              "        }\n",
              "      </script>\n",
              "    </div>\n",
              "  </div>\n",
              "  "
            ],
            "text/plain": [
              "   Unnamed: 0          author  \\\n",
              "0           0      growingivy   \n",
              "1           1      tedman1990   \n",
              "2           2     EarlESquirt   \n",
              "3           3       Panzerpup   \n",
              "4           4  ApiContraption   \n",
              "\n",
              "                                       clean_title   created_utc     domain  \\\n",
              "0             sweet spider statue in des moines ia  1.570132e+09  i.redd.it   \n",
              "1        why dont you take a photo it lasts longer  1.414077e+09        NaN   \n",
              "2            i was wondering what would beak first  1.388052e+09        NaN   \n",
              "3  lt george h w bush is shot down by the japanese  1.527452e+09  i.redd.it   \n",
              "4                                              NaN  1.530592e+09        NaN   \n",
              "\n",
              "   num_comments  score          subreddit  \\\n",
              "0           6.0     17  mildlyinteresting   \n",
              "1           NaN     48   psbattle_artwork   \n",
              "2           NaN    360   psbattle_artwork   \n",
              "3           1.0     11    fakehistoryporn   \n",
              "4           NaN      1   psbattle_artwork   \n",
              "\n",
              "                                               title  upvote_ratio  \\\n",
              "0             Sweet spider statue in Des Moines, IA.          0.84   \n",
              "1       Why don't you take a photo, it lasts longer.           NaN   \n",
              "2         \"I was wondering what would beak first...\"           NaN   \n",
              "3  Lt. George H. W. Bush is shot down by the Japa...          0.93   \n",
              "4                                                NaN           NaN   \n",
              "\n",
              "   2_way_label  3_way_label  6_way_label  \n",
              "0            1            0            0  \n",
              "1            0            2            4  \n",
              "2            0            2            4  \n",
              "3            0            2            2  \n",
              "4            0            2            4  "
            ]
          },
          "execution_count": 3,
          "metadata": {},
          "output_type": "execute_result"
        }
      ],
      "source": [
        "labels.head()"
      ]
    },
    {
      "cell_type": "markdown",
      "metadata": {
        "id": "eBTHl2Y7Xmcb"
      },
      "source": [
        "Drive loaded data"
      ]
    },
    {
      "cell_type": "code",
      "execution_count": null,
      "metadata": {
        "id": "2uBr7woufmgw"
      },
      "outputs": [],
      "source": [
        "all_train = pd.read_csv('/content/drive/MyDrive/Data Science/Fakeddit/all_train.tsv', sep='\\t')"
      ]
    },
    {
      "cell_type": "code",
      "execution_count": null,
      "metadata": {
        "colab": {
          "base_uri": "https://localhost:8080/",
          "height": 513
        },
        "id": "sDNRiWw9hvFJ",
        "outputId": "37178568-cc52-4a4b-ce6a-48ac22c2d1c6"
      },
      "outputs": [
        {
          "data": {
            "text/html": [
              "\n",
              "  <div id=\"df-09098b04-67a4-48a3-b55d-eab89216054b\">\n",
              "    <div class=\"colab-df-container\">\n",
              "      <div>\n",
              "<style scoped>\n",
              "    .dataframe tbody tr th:only-of-type {\n",
              "        vertical-align: middle;\n",
              "    }\n",
              "\n",
              "    .dataframe tbody tr th {\n",
              "        vertical-align: top;\n",
              "    }\n",
              "\n",
              "    .dataframe thead th {\n",
              "        text-align: right;\n",
              "    }\n",
              "</style>\n",
              "<table border=\"1\" class=\"dataframe\">\n",
              "  <thead>\n",
              "    <tr style=\"text-align: right;\">\n",
              "      <th></th>\n",
              "      <th>Unnamed: 0</th>\n",
              "      <th>Unnamed: 0.1</th>\n",
              "      <th>Unnamed: 0.1.1</th>\n",
              "      <th>Unnamed: 0.1.1.1</th>\n",
              "      <th>author</th>\n",
              "      <th>clean_title</th>\n",
              "      <th>created_utc</th>\n",
              "      <th>domain</th>\n",
              "      <th>hasImage</th>\n",
              "      <th>id</th>\n",
              "      <th>image_url</th>\n",
              "      <th>linked_submission_id</th>\n",
              "      <th>num_comments</th>\n",
              "      <th>score</th>\n",
              "      <th>subreddit</th>\n",
              "      <th>title</th>\n",
              "      <th>upvote_ratio</th>\n",
              "      <th>2_way_label</th>\n",
              "      <th>3_way_label</th>\n",
              "      <th>6_way_label</th>\n",
              "    </tr>\n",
              "  </thead>\n",
              "  <tbody>\n",
              "    <tr>\n",
              "      <th>0</th>\n",
              "      <td>0</td>\n",
              "      <td>0</td>\n",
              "      <td>NaN</td>\n",
              "      <td>NaN</td>\n",
              "      <td>Alexithymia</td>\n",
              "      <td>my walgreens offbrand mucinex was engraved wit...</td>\n",
              "      <td>1.551641e+09</td>\n",
              "      <td>i.imgur.com</td>\n",
              "      <td>True</td>\n",
              "      <td>awxhir</td>\n",
              "      <td>https://external-preview.redd.it/WylDbZrnbvZdB...</td>\n",
              "      <td>NaN</td>\n",
              "      <td>2.0</td>\n",
              "      <td>12</td>\n",
              "      <td>mildlyinteresting</td>\n",
              "      <td>My Walgreens offbrand Mucinex was engraved wit...</td>\n",
              "      <td>0.84</td>\n",
              "      <td>1</td>\n",
              "      <td>0</td>\n",
              "      <td>0</td>\n",
              "    </tr>\n",
              "    <tr>\n",
              "      <th>1</th>\n",
              "      <td>1</td>\n",
              "      <td>1</td>\n",
              "      <td>155885.0</td>\n",
              "      <td>714550.0</td>\n",
              "      <td>RickSisco</td>\n",
              "      <td>NaN</td>\n",
              "      <td>1.443822e+09</td>\n",
              "      <td>NaN</td>\n",
              "      <td>True</td>\n",
              "      <td>cvm5uy4</td>\n",
              "      <td>http://i.imgur.com/yxrkYT8.jpg</td>\n",
              "      <td>3n7fld</td>\n",
              "      <td>NaN</td>\n",
              "      <td>5</td>\n",
              "      <td>psbattle_artwork</td>\n",
              "      <td>NaN</td>\n",
              "      <td>NaN</td>\n",
              "      <td>0</td>\n",
              "      <td>2</td>\n",
              "      <td>4</td>\n",
              "    </tr>\n",
              "    <tr>\n",
              "      <th>2</th>\n",
              "      <td>2</td>\n",
              "      <td>2</td>\n",
              "      <td>NaN</td>\n",
              "      <td>NaN</td>\n",
              "      <td>VIDCAs17</td>\n",
              "      <td>this concerned sink with a tiny hat</td>\n",
              "      <td>1.534727e+09</td>\n",
              "      <td>i.redd.it</td>\n",
              "      <td>True</td>\n",
              "      <td>98pbid</td>\n",
              "      <td>https://preview.redd.it/wsfx0gp0f5h11.jpg?widt...</td>\n",
              "      <td>NaN</td>\n",
              "      <td>2.0</td>\n",
              "      <td>119</td>\n",
              "      <td>pareidolia</td>\n",
              "      <td>This concerned sink with a tiny hat</td>\n",
              "      <td>0.99</td>\n",
              "      <td>0</td>\n",
              "      <td>2</td>\n",
              "      <td>2</td>\n",
              "    </tr>\n",
              "    <tr>\n",
              "      <th>3</th>\n",
              "      <td>3</td>\n",
              "      <td>3</td>\n",
              "      <td>NaN</td>\n",
              "      <td>NaN</td>\n",
              "      <td>prometheus1123</td>\n",
              "      <td>hackers leak emails from uae ambassador to us</td>\n",
              "      <td>1.496511e+09</td>\n",
              "      <td>aljazeera.com</td>\n",
              "      <td>True</td>\n",
              "      <td>6f2cy5</td>\n",
              "      <td>https://external-preview.redd.it/6fNhdbc6K1vFA...</td>\n",
              "      <td>NaN</td>\n",
              "      <td>1.0</td>\n",
              "      <td>44</td>\n",
              "      <td>neutralnews</td>\n",
              "      <td>Hackers leak emails from UAE ambassador to US</td>\n",
              "      <td>0.92</td>\n",
              "      <td>1</td>\n",
              "      <td>0</td>\n",
              "      <td>0</td>\n",
              "    </tr>\n",
              "    <tr>\n",
              "      <th>4</th>\n",
              "      <td>4</td>\n",
              "      <td>4</td>\n",
              "      <td>282323.0</td>\n",
              "      <td>1228398.0</td>\n",
              "      <td>NaN</td>\n",
              "      <td>NaN</td>\n",
              "      <td>1.378792e+09</td>\n",
              "      <td>NaN</td>\n",
              "      <td>True</td>\n",
              "      <td>cc5cbon</td>\n",
              "      <td>http://i.imgur.com/M8KTWMx.jpg</td>\n",
              "      <td>1lz1q0</td>\n",
              "      <td>NaN</td>\n",
              "      <td>3</td>\n",
              "      <td>psbattle_artwork</td>\n",
              "      <td>NaN</td>\n",
              "      <td>NaN</td>\n",
              "      <td>0</td>\n",
              "      <td>2</td>\n",
              "      <td>4</td>\n",
              "    </tr>\n",
              "  </tbody>\n",
              "</table>\n",
              "</div>\n",
              "      <button class=\"colab-df-convert\" onclick=\"convertToInteractive('df-09098b04-67a4-48a3-b55d-eab89216054b')\"\n",
              "              title=\"Convert this dataframe to an interactive table.\"\n",
              "              style=\"display:none;\">\n",
              "        \n",
              "  <svg xmlns=\"http://www.w3.org/2000/svg\" height=\"24px\"viewBox=\"0 0 24 24\"\n",
              "       width=\"24px\">\n",
              "    <path d=\"M0 0h24v24H0V0z\" fill=\"none\"/>\n",
              "    <path d=\"M18.56 5.44l.94 2.06.94-2.06 2.06-.94-2.06-.94-.94-2.06-.94 2.06-2.06.94zm-11 1L8.5 8.5l.94-2.06 2.06-.94-2.06-.94L8.5 2.5l-.94 2.06-2.06.94zm10 10l.94 2.06.94-2.06 2.06-.94-2.06-.94-.94-2.06-.94 2.06-2.06.94z\"/><path d=\"M17.41 7.96l-1.37-1.37c-.4-.4-.92-.59-1.43-.59-.52 0-1.04.2-1.43.59L10.3 9.45l-7.72 7.72c-.78.78-.78 2.05 0 2.83L4 21.41c.39.39.9.59 1.41.59.51 0 1.02-.2 1.41-.59l7.78-7.78 2.81-2.81c.8-.78.8-2.07 0-2.86zM5.41 20L4 18.59l7.72-7.72 1.47 1.35L5.41 20z\"/>\n",
              "  </svg>\n",
              "      </button>\n",
              "      \n",
              "  <style>\n",
              "    .colab-df-container {\n",
              "      display:flex;\n",
              "      flex-wrap:wrap;\n",
              "      gap: 12px;\n",
              "    }\n",
              "\n",
              "    .colab-df-convert {\n",
              "      background-color: #E8F0FE;\n",
              "      border: none;\n",
              "      border-radius: 50%;\n",
              "      cursor: pointer;\n",
              "      display: none;\n",
              "      fill: #1967D2;\n",
              "      height: 32px;\n",
              "      padding: 0 0 0 0;\n",
              "      width: 32px;\n",
              "    }\n",
              "\n",
              "    .colab-df-convert:hover {\n",
              "      background-color: #E2EBFA;\n",
              "      box-shadow: 0px 1px 2px rgba(60, 64, 67, 0.3), 0px 1px 3px 1px rgba(60, 64, 67, 0.15);\n",
              "      fill: #174EA6;\n",
              "    }\n",
              "\n",
              "    [theme=dark] .colab-df-convert {\n",
              "      background-color: #3B4455;\n",
              "      fill: #D2E3FC;\n",
              "    }\n",
              "\n",
              "    [theme=dark] .colab-df-convert:hover {\n",
              "      background-color: #434B5C;\n",
              "      box-shadow: 0px 1px 3px 1px rgba(0, 0, 0, 0.15);\n",
              "      filter: drop-shadow(0px 1px 2px rgba(0, 0, 0, 0.3));\n",
              "      fill: #FFFFFF;\n",
              "    }\n",
              "  </style>\n",
              "\n",
              "      <script>\n",
              "        const buttonEl =\n",
              "          document.querySelector('#df-09098b04-67a4-48a3-b55d-eab89216054b button.colab-df-convert');\n",
              "        buttonEl.style.display =\n",
              "          google.colab.kernel.accessAllowed ? 'block' : 'none';\n",
              "\n",
              "        async function convertToInteractive(key) {\n",
              "          const element = document.querySelector('#df-09098b04-67a4-48a3-b55d-eab89216054b');\n",
              "          const dataTable =\n",
              "            await google.colab.kernel.invokeFunction('convertToInteractive',\n",
              "                                                     [key], {});\n",
              "          if (!dataTable) return;\n",
              "\n",
              "          const docLinkHtml = 'Like what you see? Visit the ' +\n",
              "            '<a target=\"_blank\" href=https://colab.research.google.com/notebooks/data_table.ipynb>data table notebook</a>'\n",
              "            + ' to learn more about interactive tables.';\n",
              "          element.innerHTML = '';\n",
              "          dataTable['output_type'] = 'display_data';\n",
              "          await google.colab.output.renderOutput(dataTable, element);\n",
              "          const docLink = document.createElement('div');\n",
              "          docLink.innerHTML = docLinkHtml;\n",
              "          element.appendChild(docLink);\n",
              "        }\n",
              "      </script>\n",
              "    </div>\n",
              "  </div>\n",
              "  "
            ],
            "text/plain": [
              "   Unnamed: 0  Unnamed: 0.1  Unnamed: 0.1.1  Unnamed: 0.1.1.1          author  \\\n",
              "0           0             0             NaN               NaN     Alexithymia   \n",
              "1           1             1        155885.0          714550.0       RickSisco   \n",
              "2           2             2             NaN               NaN        VIDCAs17   \n",
              "3           3             3             NaN               NaN  prometheus1123   \n",
              "4           4             4        282323.0         1228398.0             NaN   \n",
              "\n",
              "                                         clean_title   created_utc  \\\n",
              "0  my walgreens offbrand mucinex was engraved wit...  1.551641e+09   \n",
              "1                                                NaN  1.443822e+09   \n",
              "2                this concerned sink with a tiny hat  1.534727e+09   \n",
              "3      hackers leak emails from uae ambassador to us  1.496511e+09   \n",
              "4                                                NaN  1.378792e+09   \n",
              "\n",
              "          domain  hasImage       id  \\\n",
              "0    i.imgur.com      True   awxhir   \n",
              "1            NaN      True  cvm5uy4   \n",
              "2      i.redd.it      True   98pbid   \n",
              "3  aljazeera.com      True   6f2cy5   \n",
              "4            NaN      True  cc5cbon   \n",
              "\n",
              "                                           image_url linked_submission_id  \\\n",
              "0  https://external-preview.redd.it/WylDbZrnbvZdB...                  NaN   \n",
              "1                     http://i.imgur.com/yxrkYT8.jpg               3n7fld   \n",
              "2  https://preview.redd.it/wsfx0gp0f5h11.jpg?widt...                  NaN   \n",
              "3  https://external-preview.redd.it/6fNhdbc6K1vFA...                  NaN   \n",
              "4                     http://i.imgur.com/M8KTWMx.jpg               1lz1q0   \n",
              "\n",
              "   num_comments  score          subreddit  \\\n",
              "0           2.0     12  mildlyinteresting   \n",
              "1           NaN      5   psbattle_artwork   \n",
              "2           2.0    119         pareidolia   \n",
              "3           1.0     44        neutralnews   \n",
              "4           NaN      3   psbattle_artwork   \n",
              "\n",
              "                                               title  upvote_ratio  \\\n",
              "0  My Walgreens offbrand Mucinex was engraved wit...          0.84   \n",
              "1                                                NaN           NaN   \n",
              "2                This concerned sink with a tiny hat          0.99   \n",
              "3      Hackers leak emails from UAE ambassador to US          0.92   \n",
              "4                                                NaN           NaN   \n",
              "\n",
              "   2_way_label  3_way_label  6_way_label  \n",
              "0            1            0            0  \n",
              "1            0            2            4  \n",
              "2            0            2            2  \n",
              "3            1            0            0  \n",
              "4            0            2            4  "
            ]
          },
          "execution_count": 5,
          "metadata": {},
          "output_type": "execute_result"
        }
      ],
      "source": [
        "all_train.head()"
      ]
    },
    {
      "cell_type": "code",
      "execution_count": null,
      "metadata": {
        "id": "NhiT66H3YKCP"
      },
      "outputs": [],
      "source": [
        "all_train = all_train.drop(columns=['Unnamed: 0', 'Unnamed: 0.1', 'Unnamed: 0.1.1', 'Unnamed: 0.1.1.1', 'id', 'linked_submission_id', 'hasImage', 'image_url', 'author'])"
      ]
    },
    {
      "cell_type": "markdown",
      "metadata": {
        "id": "X_wtfIe9g665"
      },
      "source": [
        "# Null Value Processing"
      ]
    },
    {
      "cell_type": "code",
      "execution_count": null,
      "metadata": {
        "colab": {
          "base_uri": "https://localhost:8080/",
          "height": 496
        },
        "id": "mMVvu2ESfuUd",
        "outputId": "c22b0113-e74c-4787-be16-b52dbfb6cc3e"
      },
      "outputs": [
        {
          "data": {
            "text/html": [
              "\n",
              "  <div id=\"df-24fbe6a8-5466-4a73-aa24-679ec819726f\">\n",
              "    <div class=\"colab-df-container\">\n",
              "      <div>\n",
              "<style scoped>\n",
              "    .dataframe tbody tr th:only-of-type {\n",
              "        vertical-align: middle;\n",
              "    }\n",
              "\n",
              "    .dataframe tbody tr th {\n",
              "        vertical-align: top;\n",
              "    }\n",
              "\n",
              "    .dataframe thead th {\n",
              "        text-align: right;\n",
              "    }\n",
              "</style>\n",
              "<table border=\"1\" class=\"dataframe\">\n",
              "  <thead>\n",
              "    <tr style=\"text-align: right;\">\n",
              "      <th></th>\n",
              "      <th>clean_title</th>\n",
              "      <th>created_utc</th>\n",
              "      <th>domain</th>\n",
              "      <th>num_comments</th>\n",
              "      <th>score</th>\n",
              "      <th>subreddit</th>\n",
              "      <th>title</th>\n",
              "      <th>upvote_ratio</th>\n",
              "      <th>2_way_label</th>\n",
              "      <th>3_way_label</th>\n",
              "      <th>6_way_label</th>\n",
              "    </tr>\n",
              "  </thead>\n",
              "  <tbody>\n",
              "    <tr>\n",
              "      <th>0</th>\n",
              "      <td>my walgreens offbrand mucinex was engraved wit...</td>\n",
              "      <td>1.551641e+09</td>\n",
              "      <td>i.imgur.com</td>\n",
              "      <td>2.0</td>\n",
              "      <td>12</td>\n",
              "      <td>mildlyinteresting</td>\n",
              "      <td>My Walgreens offbrand Mucinex was engraved wit...</td>\n",
              "      <td>0.84</td>\n",
              "      <td>1</td>\n",
              "      <td>0</td>\n",
              "      <td>0</td>\n",
              "    </tr>\n",
              "    <tr>\n",
              "      <th>1</th>\n",
              "      <td>NaN</td>\n",
              "      <td>1.443822e+09</td>\n",
              "      <td>NaN</td>\n",
              "      <td>NaN</td>\n",
              "      <td>5</td>\n",
              "      <td>psbattle_artwork</td>\n",
              "      <td>NaN</td>\n",
              "      <td>NaN</td>\n",
              "      <td>0</td>\n",
              "      <td>2</td>\n",
              "      <td>4</td>\n",
              "    </tr>\n",
              "    <tr>\n",
              "      <th>2</th>\n",
              "      <td>this concerned sink with a tiny hat</td>\n",
              "      <td>1.534727e+09</td>\n",
              "      <td>i.redd.it</td>\n",
              "      <td>2.0</td>\n",
              "      <td>119</td>\n",
              "      <td>pareidolia</td>\n",
              "      <td>This concerned sink with a tiny hat</td>\n",
              "      <td>0.99</td>\n",
              "      <td>0</td>\n",
              "      <td>2</td>\n",
              "      <td>2</td>\n",
              "    </tr>\n",
              "    <tr>\n",
              "      <th>3</th>\n",
              "      <td>hackers leak emails from uae ambassador to us</td>\n",
              "      <td>1.496511e+09</td>\n",
              "      <td>aljazeera.com</td>\n",
              "      <td>1.0</td>\n",
              "      <td>44</td>\n",
              "      <td>neutralnews</td>\n",
              "      <td>Hackers leak emails from UAE ambassador to US</td>\n",
              "      <td>0.92</td>\n",
              "      <td>1</td>\n",
              "      <td>0</td>\n",
              "      <td>0</td>\n",
              "    </tr>\n",
              "    <tr>\n",
              "      <th>4</th>\n",
              "      <td>NaN</td>\n",
              "      <td>1.378792e+09</td>\n",
              "      <td>NaN</td>\n",
              "      <td>NaN</td>\n",
              "      <td>3</td>\n",
              "      <td>psbattle_artwork</td>\n",
              "      <td>NaN</td>\n",
              "      <td>NaN</td>\n",
              "      <td>0</td>\n",
              "      <td>2</td>\n",
              "      <td>4</td>\n",
              "    </tr>\n",
              "  </tbody>\n",
              "</table>\n",
              "</div>\n",
              "      <button class=\"colab-df-convert\" onclick=\"convertToInteractive('df-24fbe6a8-5466-4a73-aa24-679ec819726f')\"\n",
              "              title=\"Convert this dataframe to an interactive table.\"\n",
              "              style=\"display:none;\">\n",
              "        \n",
              "  <svg xmlns=\"http://www.w3.org/2000/svg\" height=\"24px\"viewBox=\"0 0 24 24\"\n",
              "       width=\"24px\">\n",
              "    <path d=\"M0 0h24v24H0V0z\" fill=\"none\"/>\n",
              "    <path d=\"M18.56 5.44l.94 2.06.94-2.06 2.06-.94-2.06-.94-.94-2.06-.94 2.06-2.06.94zm-11 1L8.5 8.5l.94-2.06 2.06-.94-2.06-.94L8.5 2.5l-.94 2.06-2.06.94zm10 10l.94 2.06.94-2.06 2.06-.94-2.06-.94-.94-2.06-.94 2.06-2.06.94z\"/><path d=\"M17.41 7.96l-1.37-1.37c-.4-.4-.92-.59-1.43-.59-.52 0-1.04.2-1.43.59L10.3 9.45l-7.72 7.72c-.78.78-.78 2.05 0 2.83L4 21.41c.39.39.9.59 1.41.59.51 0 1.02-.2 1.41-.59l7.78-7.78 2.81-2.81c.8-.78.8-2.07 0-2.86zM5.41 20L4 18.59l7.72-7.72 1.47 1.35L5.41 20z\"/>\n",
              "  </svg>\n",
              "      </button>\n",
              "      \n",
              "  <style>\n",
              "    .colab-df-container {\n",
              "      display:flex;\n",
              "      flex-wrap:wrap;\n",
              "      gap: 12px;\n",
              "    }\n",
              "\n",
              "    .colab-df-convert {\n",
              "      background-color: #E8F0FE;\n",
              "      border: none;\n",
              "      border-radius: 50%;\n",
              "      cursor: pointer;\n",
              "      display: none;\n",
              "      fill: #1967D2;\n",
              "      height: 32px;\n",
              "      padding: 0 0 0 0;\n",
              "      width: 32px;\n",
              "    }\n",
              "\n",
              "    .colab-df-convert:hover {\n",
              "      background-color: #E2EBFA;\n",
              "      box-shadow: 0px 1px 2px rgba(60, 64, 67, 0.3), 0px 1px 3px 1px rgba(60, 64, 67, 0.15);\n",
              "      fill: #174EA6;\n",
              "    }\n",
              "\n",
              "    [theme=dark] .colab-df-convert {\n",
              "      background-color: #3B4455;\n",
              "      fill: #D2E3FC;\n",
              "    }\n",
              "\n",
              "    [theme=dark] .colab-df-convert:hover {\n",
              "      background-color: #434B5C;\n",
              "      box-shadow: 0px 1px 3px 1px rgba(0, 0, 0, 0.15);\n",
              "      filter: drop-shadow(0px 1px 2px rgba(0, 0, 0, 0.3));\n",
              "      fill: #FFFFFF;\n",
              "    }\n",
              "  </style>\n",
              "\n",
              "      <script>\n",
              "        const buttonEl =\n",
              "          document.querySelector('#df-24fbe6a8-5466-4a73-aa24-679ec819726f button.colab-df-convert');\n",
              "        buttonEl.style.display =\n",
              "          google.colab.kernel.accessAllowed ? 'block' : 'none';\n",
              "\n",
              "        async function convertToInteractive(key) {\n",
              "          const element = document.querySelector('#df-24fbe6a8-5466-4a73-aa24-679ec819726f');\n",
              "          const dataTable =\n",
              "            await google.colab.kernel.invokeFunction('convertToInteractive',\n",
              "                                                     [key], {});\n",
              "          if (!dataTable) return;\n",
              "\n",
              "          const docLinkHtml = 'Like what you see? Visit the ' +\n",
              "            '<a target=\"_blank\" href=https://colab.research.google.com/notebooks/data_table.ipynb>data table notebook</a>'\n",
              "            + ' to learn more about interactive tables.';\n",
              "          element.innerHTML = '';\n",
              "          dataTable['output_type'] = 'display_data';\n",
              "          await google.colab.output.renderOutput(dataTable, element);\n",
              "          const docLink = document.createElement('div');\n",
              "          docLink.innerHTML = docLinkHtml;\n",
              "          element.appendChild(docLink);\n",
              "        }\n",
              "      </script>\n",
              "    </div>\n",
              "  </div>\n",
              "  "
            ],
            "text/plain": [
              "                                         clean_title   created_utc  \\\n",
              "0  my walgreens offbrand mucinex was engraved wit...  1.551641e+09   \n",
              "1                                                NaN  1.443822e+09   \n",
              "2                this concerned sink with a tiny hat  1.534727e+09   \n",
              "3      hackers leak emails from uae ambassador to us  1.496511e+09   \n",
              "4                                                NaN  1.378792e+09   \n",
              "\n",
              "          domain  num_comments  score          subreddit  \\\n",
              "0    i.imgur.com           2.0     12  mildlyinteresting   \n",
              "1            NaN           NaN      5   psbattle_artwork   \n",
              "2      i.redd.it           2.0    119         pareidolia   \n",
              "3  aljazeera.com           1.0     44        neutralnews   \n",
              "4            NaN           NaN      3   psbattle_artwork   \n",
              "\n",
              "                                               title  upvote_ratio  \\\n",
              "0  My Walgreens offbrand Mucinex was engraved wit...          0.84   \n",
              "1                                                NaN           NaN   \n",
              "2                This concerned sink with a tiny hat          0.99   \n",
              "3      Hackers leak emails from UAE ambassador to US          0.92   \n",
              "4                                                NaN           NaN   \n",
              "\n",
              "   2_way_label  3_way_label  6_way_label  \n",
              "0            1            0            0  \n",
              "1            0            2            4  \n",
              "2            0            2            2  \n",
              "3            1            0            0  \n",
              "4            0            2            4  "
            ]
          },
          "execution_count": 7,
          "metadata": {},
          "output_type": "execute_result"
        }
      ],
      "source": [
        "all_train.head()"
      ]
    },
    {
      "cell_type": "code",
      "execution_count": null,
      "metadata": {
        "colab": {
          "base_uri": "https://localhost:8080/"
        },
        "id": "AuGmbwKxgKjs",
        "outputId": "e6a53956-eadb-4e9f-9ce0-5c94cd7cf948"
      },
      "outputs": [
        {
          "data": {
            "text/plain": [
              "clean_title      75429\n",
              "created_utc          0\n",
              "domain          242100\n",
              "num_comments    242100\n",
              "score                0\n",
              "subreddit            0\n",
              "title            73840\n",
              "upvote_ratio    242100\n",
              "2_way_label          0\n",
              "3_way_label          0\n",
              "6_way_label          0\n",
              "dtype: int64"
            ]
          },
          "execution_count": 8,
          "metadata": {},
          "output_type": "execute_result"
        }
      ],
      "source": [
        "all_train.isnull().sum()"
      ]
    },
    {
      "cell_type": "code",
      "execution_count": null,
      "metadata": {
        "id": "lLFLBvdVgd3k"
      },
      "outputs": [],
      "source": [
        "all_train = all_train.dropna()"
      ]
    },
    {
      "cell_type": "code",
      "execution_count": null,
      "metadata": {
        "id": "b_Wjs3SXgqf-"
      },
      "outputs": [],
      "source": [
        "X = all_train.drop(columns=['2_way_label', '3_way_label',\t'6_way_label'])\n",
        "y = all_train[['2_way_label', '3_way_label',\t'6_way_label']]"
      ]
    },
    {
      "cell_type": "code",
      "execution_count": null,
      "metadata": {
        "colab": {
          "base_uri": "https://localhost:8080/"
        },
        "id": "BGyRxF_RhEGv",
        "outputId": "c510b8b7-6585-4609-e4e2-9bee1c3c2eff"
      },
      "outputs": [
        {
          "name": "stdout",
          "output_type": "stream",
          "text": [
            "X shape: (634932, 8)\n",
            "y shape: (634932, 3)\n"
          ]
        }
      ],
      "source": [
        "print('X shape:', X.shape)\n",
        "print('y shape:', y.shape)"
      ]
    },
    {
      "cell_type": "markdown",
      "metadata": {
        "id": "O4BvKuzQhAhG"
      },
      "source": [
        " # Numerical Data Processing"
      ]
    },
    {
      "cell_type": "code",
      "execution_count": null,
      "metadata": {
        "colab": {
          "base_uri": "https://localhost:8080/"
        },
        "id": "7lgw9JgJkIyy",
        "outputId": "087a1630-5a11-476a-c30a-8973ad9ad36f"
      },
      "outputs": [
        {
          "name": "stdout",
          "output_type": "stream",
          "text": [
            "21\n",
            "ratio: 3.307440796809737e-05\n"
          ]
        }
      ],
      "source": [
        "print(X['subreddit'].nunique())\n",
        "print('ratio:', X['subreddit'].nunique() / X.shape[0])"
      ]
    },
    {
      "cell_type": "code",
      "execution_count": null,
      "metadata": {
        "colab": {
          "base_uri": "https://localhost:8080/"
        },
        "id": "G4Bs38ShlA9J",
        "outputId": "034a51bd-88ff-45c9-ca46-c14dea2ac589"
      },
      "outputs": [
        {
          "name": "stdout",
          "output_type": "stream",
          "text": [
            "20627\n",
            "ratio: 0.032486943483711644\n"
          ]
        }
      ],
      "source": [
        "print(X['domain'].nunique())\n",
        "print('ratio:', X['domain'].nunique() / X.shape[0])"
      ]
    },
    {
      "cell_type": "code",
      "execution_count": null,
      "metadata": {
        "colab": {
          "base_uri": "https://localhost:8080/"
        },
        "id": "prVzPf_bYDCV",
        "outputId": "ba1769bc-a5cc-405d-d88b-1a04476f07b3"
      },
      "outputs": [
        {
          "name": "stdout",
          "output_type": "stream",
          "text": [
            "   subreddit_confusing_perspective  subreddit_fakealbumcovers  \\\n",
            "0                                0                          0   \n",
            "2                                0                          0   \n",
            "3                                0                          0   \n",
            "5                                0                          0   \n",
            "6                                0                          0   \n",
            "\n",
            "   subreddit_fakefacts  subreddit_fakehistoryporn  \\\n",
            "0                    0                          0   \n",
            "2                    0                          0   \n",
            "3                    0                          0   \n",
            "5                    0                          0   \n",
            "6                    0                          0   \n",
            "\n",
            "   subreddit_mildlyinteresting  subreddit_misleadingthumbnails  \\\n",
            "0                            1                               0   \n",
            "2                            0                               0   \n",
            "3                            0                               0   \n",
            "5                            1                               0   \n",
            "6                            0                               0   \n",
            "\n",
            "   subreddit_neutralnews  subreddit_nottheonion  subreddit_pareidolia  \\\n",
            "0                      0                      0                     0   \n",
            "2                      0                      0                     1   \n",
            "3                      1                      0                     0   \n",
            "5                      0                      0                     0   \n",
            "6                      0                      0                     0   \n",
            "\n",
            "   subreddit_photoshopbattles  ...  subreddit_propagandaposters  \\\n",
            "0                           0  ...                            0   \n",
            "2                           0  ...                            0   \n",
            "3                           0  ...                            0   \n",
            "5                           0  ...                            0   \n",
            "6                           1  ...                            0   \n",
            "\n",
            "   subreddit_satire  subreddit_savedyouaclick  subreddit_subredditsimulator  \\\n",
            "0                 0                         0                             0   \n",
            "2                 0                         0                             0   \n",
            "3                 0                         0                             0   \n",
            "5                 0                         0                             0   \n",
            "6                 0                         0                             0   \n",
            "\n",
            "   subreddit_subsimulatorgpt2  subreddit_theonion  subreddit_upliftingnews  \\\n",
            "0                           0                   0                        0   \n",
            "2                           0                   0                        0   \n",
            "3                           0                   0                        0   \n",
            "5                           0                   0                        0   \n",
            "6                           0                   0                        0   \n",
            "\n",
            "   subreddit_usanews  subreddit_usnews  subreddit_waterfordwhispersnews  \n",
            "0                  0                 0                                0  \n",
            "2                  0                 0                                0  \n",
            "3                  0                 0                                0  \n",
            "5                  0                 0                                0  \n",
            "6                  0                 0                                0  \n",
            "\n",
            "[5 rows x 21 columns]\n"
          ]
        }
      ],
      "source": [
        "categorical_subreddit = pd.get_dummies(X.subreddit, prefix='subreddit')\n",
        "print(categorical_subreddit.head())"
      ]
    },
    {
      "cell_type": "code",
      "execution_count": null,
      "metadata": {
        "id": "H2V5CrtdhpD6"
      },
      "outputs": [],
      "source": [
        "# categorical_domain = pd.get_dummies(X.domain, prefix='subreddit')\n",
        "# print(categorical_domain.head())"
      ]
    },
    {
      "cell_type": "code",
      "execution_count": null,
      "metadata": {
        "id": "MNs7rx9sY56V"
      },
      "outputs": [],
      "source": [
        "X = X.drop(columns=['domain'])"
      ]
    },
    {
      "cell_type": "code",
      "execution_count": null,
      "metadata": {
        "colab": {
          "base_uri": "https://localhost:8080/",
          "height": 577
        },
        "id": "_k898lFwbUem",
        "outputId": "b1c1785e-740d-489b-9beb-6a8dbf54dd2f"
      },
      "outputs": [
        {
          "data": {
            "text/html": [
              "\n",
              "  <div id=\"df-8f93dff6-60e8-4a60-9815-a1e25732e110\">\n",
              "    <div class=\"colab-df-container\">\n",
              "      <div>\n",
              "<style scoped>\n",
              "    .dataframe tbody tr th:only-of-type {\n",
              "        vertical-align: middle;\n",
              "    }\n",
              "\n",
              "    .dataframe tbody tr th {\n",
              "        vertical-align: top;\n",
              "    }\n",
              "\n",
              "    .dataframe thead th {\n",
              "        text-align: right;\n",
              "    }\n",
              "</style>\n",
              "<table border=\"1\" class=\"dataframe\">\n",
              "  <thead>\n",
              "    <tr style=\"text-align: right;\">\n",
              "      <th></th>\n",
              "      <th>clean_title</th>\n",
              "      <th>created_utc</th>\n",
              "      <th>num_comments</th>\n",
              "      <th>score</th>\n",
              "      <th>subreddit</th>\n",
              "      <th>title</th>\n",
              "      <th>upvote_ratio</th>\n",
              "      <th>subreddit_confusing_perspective</th>\n",
              "      <th>subreddit_fakealbumcovers</th>\n",
              "      <th>subreddit_fakefacts</th>\n",
              "      <th>...</th>\n",
              "      <th>subreddit_propagandaposters</th>\n",
              "      <th>subreddit_satire</th>\n",
              "      <th>subreddit_savedyouaclick</th>\n",
              "      <th>subreddit_subredditsimulator</th>\n",
              "      <th>subreddit_subsimulatorgpt2</th>\n",
              "      <th>subreddit_theonion</th>\n",
              "      <th>subreddit_upliftingnews</th>\n",
              "      <th>subreddit_usanews</th>\n",
              "      <th>subreddit_usnews</th>\n",
              "      <th>subreddit_waterfordwhispersnews</th>\n",
              "    </tr>\n",
              "  </thead>\n",
              "  <tbody>\n",
              "    <tr>\n",
              "      <th>0</th>\n",
              "      <td>my walgreens offbrand mucinex was engraved wit...</td>\n",
              "      <td>1.551641e+09</td>\n",
              "      <td>2.0</td>\n",
              "      <td>12</td>\n",
              "      <td>mildlyinteresting</td>\n",
              "      <td>My Walgreens offbrand Mucinex was engraved wit...</td>\n",
              "      <td>0.84</td>\n",
              "      <td>0</td>\n",
              "      <td>0</td>\n",
              "      <td>0</td>\n",
              "      <td>...</td>\n",
              "      <td>0</td>\n",
              "      <td>0</td>\n",
              "      <td>0</td>\n",
              "      <td>0</td>\n",
              "      <td>0</td>\n",
              "      <td>0</td>\n",
              "      <td>0</td>\n",
              "      <td>0</td>\n",
              "      <td>0</td>\n",
              "      <td>0</td>\n",
              "    </tr>\n",
              "    <tr>\n",
              "      <th>2</th>\n",
              "      <td>this concerned sink with a tiny hat</td>\n",
              "      <td>1.534727e+09</td>\n",
              "      <td>2.0</td>\n",
              "      <td>119</td>\n",
              "      <td>pareidolia</td>\n",
              "      <td>This concerned sink with a tiny hat</td>\n",
              "      <td>0.99</td>\n",
              "      <td>0</td>\n",
              "      <td>0</td>\n",
              "      <td>0</td>\n",
              "      <td>...</td>\n",
              "      <td>0</td>\n",
              "      <td>0</td>\n",
              "      <td>0</td>\n",
              "      <td>0</td>\n",
              "      <td>0</td>\n",
              "      <td>0</td>\n",
              "      <td>0</td>\n",
              "      <td>0</td>\n",
              "      <td>0</td>\n",
              "      <td>0</td>\n",
              "    </tr>\n",
              "    <tr>\n",
              "      <th>3</th>\n",
              "      <td>hackers leak emails from uae ambassador to us</td>\n",
              "      <td>1.496511e+09</td>\n",
              "      <td>1.0</td>\n",
              "      <td>44</td>\n",
              "      <td>neutralnews</td>\n",
              "      <td>Hackers leak emails from UAE ambassador to US</td>\n",
              "      <td>0.92</td>\n",
              "      <td>0</td>\n",
              "      <td>0</td>\n",
              "      <td>0</td>\n",
              "      <td>...</td>\n",
              "      <td>0</td>\n",
              "      <td>0</td>\n",
              "      <td>0</td>\n",
              "      <td>0</td>\n",
              "      <td>0</td>\n",
              "      <td>0</td>\n",
              "      <td>0</td>\n",
              "      <td>0</td>\n",
              "      <td>0</td>\n",
              "      <td>0</td>\n",
              "    </tr>\n",
              "    <tr>\n",
              "      <th>5</th>\n",
              "      <td>this flower in my neighborhood</td>\n",
              "      <td>1.557764e+09</td>\n",
              "      <td>0.0</td>\n",
              "      <td>17</td>\n",
              "      <td>mildlyinteresting</td>\n",
              "      <td>This flower in my neighborhood</td>\n",
              "      <td>0.92</td>\n",
              "      <td>0</td>\n",
              "      <td>0</td>\n",
              "      <td>0</td>\n",
              "      <td>...</td>\n",
              "      <td>0</td>\n",
              "      <td>0</td>\n",
              "      <td>0</td>\n",
              "      <td>0</td>\n",
              "      <td>0</td>\n",
              "      <td>0</td>\n",
              "      <td>0</td>\n",
              "      <td>0</td>\n",
              "      <td>0</td>\n",
              "      <td>0</td>\n",
              "    </tr>\n",
              "    <tr>\n",
              "      <th>6</th>\n",
              "      <td>puppy taking in the view</td>\n",
              "      <td>1.471341e+09</td>\n",
              "      <td>26.0</td>\n",
              "      <td>250</td>\n",
              "      <td>photoshopbattles</td>\n",
              "      <td>PsBattle: Puppy taking in the view</td>\n",
              "      <td>0.95</td>\n",
              "      <td>0</td>\n",
              "      <td>0</td>\n",
              "      <td>0</td>\n",
              "      <td>...</td>\n",
              "      <td>0</td>\n",
              "      <td>0</td>\n",
              "      <td>0</td>\n",
              "      <td>0</td>\n",
              "      <td>0</td>\n",
              "      <td>0</td>\n",
              "      <td>0</td>\n",
              "      <td>0</td>\n",
              "      <td>0</td>\n",
              "      <td>0</td>\n",
              "    </tr>\n",
              "  </tbody>\n",
              "</table>\n",
              "<p>5 rows × 28 columns</p>\n",
              "</div>\n",
              "      <button class=\"colab-df-convert\" onclick=\"convertToInteractive('df-8f93dff6-60e8-4a60-9815-a1e25732e110')\"\n",
              "              title=\"Convert this dataframe to an interactive table.\"\n",
              "              style=\"display:none;\">\n",
              "        \n",
              "  <svg xmlns=\"http://www.w3.org/2000/svg\" height=\"24px\"viewBox=\"0 0 24 24\"\n",
              "       width=\"24px\">\n",
              "    <path d=\"M0 0h24v24H0V0z\" fill=\"none\"/>\n",
              "    <path d=\"M18.56 5.44l.94 2.06.94-2.06 2.06-.94-2.06-.94-.94-2.06-.94 2.06-2.06.94zm-11 1L8.5 8.5l.94-2.06 2.06-.94-2.06-.94L8.5 2.5l-.94 2.06-2.06.94zm10 10l.94 2.06.94-2.06 2.06-.94-2.06-.94-.94-2.06-.94 2.06-2.06.94z\"/><path d=\"M17.41 7.96l-1.37-1.37c-.4-.4-.92-.59-1.43-.59-.52 0-1.04.2-1.43.59L10.3 9.45l-7.72 7.72c-.78.78-.78 2.05 0 2.83L4 21.41c.39.39.9.59 1.41.59.51 0 1.02-.2 1.41-.59l7.78-7.78 2.81-2.81c.8-.78.8-2.07 0-2.86zM5.41 20L4 18.59l7.72-7.72 1.47 1.35L5.41 20z\"/>\n",
              "  </svg>\n",
              "      </button>\n",
              "      \n",
              "  <style>\n",
              "    .colab-df-container {\n",
              "      display:flex;\n",
              "      flex-wrap:wrap;\n",
              "      gap: 12px;\n",
              "    }\n",
              "\n",
              "    .colab-df-convert {\n",
              "      background-color: #E8F0FE;\n",
              "      border: none;\n",
              "      border-radius: 50%;\n",
              "      cursor: pointer;\n",
              "      display: none;\n",
              "      fill: #1967D2;\n",
              "      height: 32px;\n",
              "      padding: 0 0 0 0;\n",
              "      width: 32px;\n",
              "    }\n",
              "\n",
              "    .colab-df-convert:hover {\n",
              "      background-color: #E2EBFA;\n",
              "      box-shadow: 0px 1px 2px rgba(60, 64, 67, 0.3), 0px 1px 3px 1px rgba(60, 64, 67, 0.15);\n",
              "      fill: #174EA6;\n",
              "    }\n",
              "\n",
              "    [theme=dark] .colab-df-convert {\n",
              "      background-color: #3B4455;\n",
              "      fill: #D2E3FC;\n",
              "    }\n",
              "\n",
              "    [theme=dark] .colab-df-convert:hover {\n",
              "      background-color: #434B5C;\n",
              "      box-shadow: 0px 1px 3px 1px rgba(0, 0, 0, 0.15);\n",
              "      filter: drop-shadow(0px 1px 2px rgba(0, 0, 0, 0.3));\n",
              "      fill: #FFFFFF;\n",
              "    }\n",
              "  </style>\n",
              "\n",
              "      <script>\n",
              "        const buttonEl =\n",
              "          document.querySelector('#df-8f93dff6-60e8-4a60-9815-a1e25732e110 button.colab-df-convert');\n",
              "        buttonEl.style.display =\n",
              "          google.colab.kernel.accessAllowed ? 'block' : 'none';\n",
              "\n",
              "        async function convertToInteractive(key) {\n",
              "          const element = document.querySelector('#df-8f93dff6-60e8-4a60-9815-a1e25732e110');\n",
              "          const dataTable =\n",
              "            await google.colab.kernel.invokeFunction('convertToInteractive',\n",
              "                                                     [key], {});\n",
              "          if (!dataTable) return;\n",
              "\n",
              "          const docLinkHtml = 'Like what you see? Visit the ' +\n",
              "            '<a target=\"_blank\" href=https://colab.research.google.com/notebooks/data_table.ipynb>data table notebook</a>'\n",
              "            + ' to learn more about interactive tables.';\n",
              "          element.innerHTML = '';\n",
              "          dataTable['output_type'] = 'display_data';\n",
              "          await google.colab.output.renderOutput(dataTable, element);\n",
              "          const docLink = document.createElement('div');\n",
              "          docLink.innerHTML = docLinkHtml;\n",
              "          element.appendChild(docLink);\n",
              "        }\n",
              "      </script>\n",
              "    </div>\n",
              "  </div>\n",
              "  "
            ],
            "text/plain": [
              "                                         clean_title   created_utc  \\\n",
              "0  my walgreens offbrand mucinex was engraved wit...  1.551641e+09   \n",
              "2                this concerned sink with a tiny hat  1.534727e+09   \n",
              "3      hackers leak emails from uae ambassador to us  1.496511e+09   \n",
              "5                     this flower in my neighborhood  1.557764e+09   \n",
              "6                           puppy taking in the view  1.471341e+09   \n",
              "\n",
              "   num_comments  score          subreddit  \\\n",
              "0           2.0     12  mildlyinteresting   \n",
              "2           2.0    119         pareidolia   \n",
              "3           1.0     44        neutralnews   \n",
              "5           0.0     17  mildlyinteresting   \n",
              "6          26.0    250   photoshopbattles   \n",
              "\n",
              "                                               title  upvote_ratio  \\\n",
              "0  My Walgreens offbrand Mucinex was engraved wit...          0.84   \n",
              "2                This concerned sink with a tiny hat          0.99   \n",
              "3      Hackers leak emails from UAE ambassador to US          0.92   \n",
              "5                     This flower in my neighborhood          0.92   \n",
              "6                 PsBattle: Puppy taking in the view          0.95   \n",
              "\n",
              "   subreddit_confusing_perspective  subreddit_fakealbumcovers  \\\n",
              "0                                0                          0   \n",
              "2                                0                          0   \n",
              "3                                0                          0   \n",
              "5                                0                          0   \n",
              "6                                0                          0   \n",
              "\n",
              "   subreddit_fakefacts  ...  subreddit_propagandaposters  subreddit_satire  \\\n",
              "0                    0  ...                            0                 0   \n",
              "2                    0  ...                            0                 0   \n",
              "3                    0  ...                            0                 0   \n",
              "5                    0  ...                            0                 0   \n",
              "6                    0  ...                            0                 0   \n",
              "\n",
              "   subreddit_savedyouaclick  subreddit_subredditsimulator  \\\n",
              "0                         0                             0   \n",
              "2                         0                             0   \n",
              "3                         0                             0   \n",
              "5                         0                             0   \n",
              "6                         0                             0   \n",
              "\n",
              "   subreddit_subsimulatorgpt2  subreddit_theonion  subreddit_upliftingnews  \\\n",
              "0                           0                   0                        0   \n",
              "2                           0                   0                        0   \n",
              "3                           0                   0                        0   \n",
              "5                           0                   0                        0   \n",
              "6                           0                   0                        0   \n",
              "\n",
              "   subreddit_usanews  subreddit_usnews  subreddit_waterfordwhispersnews  \n",
              "0                  0                 0                                0  \n",
              "2                  0                 0                                0  \n",
              "3                  0                 0                                0  \n",
              "5                  0                 0                                0  \n",
              "6                  0                 0                                0  \n",
              "\n",
              "[5 rows x 28 columns]"
            ]
          },
          "execution_count": 16,
          "metadata": {},
          "output_type": "execute_result"
        }
      ],
      "source": [
        "X = pd.concat([X, categorical_subreddit], axis=1, join='inner')\n",
        "X.head()"
      ]
    },
    {
      "cell_type": "code",
      "execution_count": null,
      "metadata": {
        "colab": {
          "base_uri": "https://localhost:8080/",
          "height": 577
        },
        "id": "KyYb-4KDbhyF",
        "outputId": "b075bb97-cc78-4a0b-afd5-93905139a2c4"
      },
      "outputs": [
        {
          "data": {
            "text/html": [
              "\n",
              "  <div id=\"df-425669dd-68ee-4c94-8929-9fa173d117f5\">\n",
              "    <div class=\"colab-df-container\">\n",
              "      <div>\n",
              "<style scoped>\n",
              "    .dataframe tbody tr th:only-of-type {\n",
              "        vertical-align: middle;\n",
              "    }\n",
              "\n",
              "    .dataframe tbody tr th {\n",
              "        vertical-align: top;\n",
              "    }\n",
              "\n",
              "    .dataframe thead th {\n",
              "        text-align: right;\n",
              "    }\n",
              "</style>\n",
              "<table border=\"1\" class=\"dataframe\">\n",
              "  <thead>\n",
              "    <tr style=\"text-align: right;\">\n",
              "      <th></th>\n",
              "      <th>clean_title</th>\n",
              "      <th>created_utc</th>\n",
              "      <th>num_comments</th>\n",
              "      <th>score</th>\n",
              "      <th>title</th>\n",
              "      <th>upvote_ratio</th>\n",
              "      <th>subreddit_confusing_perspective</th>\n",
              "      <th>subreddit_fakealbumcovers</th>\n",
              "      <th>subreddit_fakefacts</th>\n",
              "      <th>subreddit_fakehistoryporn</th>\n",
              "      <th>...</th>\n",
              "      <th>subreddit_propagandaposters</th>\n",
              "      <th>subreddit_satire</th>\n",
              "      <th>subreddit_savedyouaclick</th>\n",
              "      <th>subreddit_subredditsimulator</th>\n",
              "      <th>subreddit_subsimulatorgpt2</th>\n",
              "      <th>subreddit_theonion</th>\n",
              "      <th>subreddit_upliftingnews</th>\n",
              "      <th>subreddit_usanews</th>\n",
              "      <th>subreddit_usnews</th>\n",
              "      <th>subreddit_waterfordwhispersnews</th>\n",
              "    </tr>\n",
              "  </thead>\n",
              "  <tbody>\n",
              "    <tr>\n",
              "      <th>0</th>\n",
              "      <td>my walgreens offbrand mucinex was engraved wit...</td>\n",
              "      <td>1.551641e+09</td>\n",
              "      <td>2.0</td>\n",
              "      <td>12</td>\n",
              "      <td>My Walgreens offbrand Mucinex was engraved wit...</td>\n",
              "      <td>0.84</td>\n",
              "      <td>0</td>\n",
              "      <td>0</td>\n",
              "      <td>0</td>\n",
              "      <td>0</td>\n",
              "      <td>...</td>\n",
              "      <td>0</td>\n",
              "      <td>0</td>\n",
              "      <td>0</td>\n",
              "      <td>0</td>\n",
              "      <td>0</td>\n",
              "      <td>0</td>\n",
              "      <td>0</td>\n",
              "      <td>0</td>\n",
              "      <td>0</td>\n",
              "      <td>0</td>\n",
              "    </tr>\n",
              "    <tr>\n",
              "      <th>2</th>\n",
              "      <td>this concerned sink with a tiny hat</td>\n",
              "      <td>1.534727e+09</td>\n",
              "      <td>2.0</td>\n",
              "      <td>119</td>\n",
              "      <td>This concerned sink with a tiny hat</td>\n",
              "      <td>0.99</td>\n",
              "      <td>0</td>\n",
              "      <td>0</td>\n",
              "      <td>0</td>\n",
              "      <td>0</td>\n",
              "      <td>...</td>\n",
              "      <td>0</td>\n",
              "      <td>0</td>\n",
              "      <td>0</td>\n",
              "      <td>0</td>\n",
              "      <td>0</td>\n",
              "      <td>0</td>\n",
              "      <td>0</td>\n",
              "      <td>0</td>\n",
              "      <td>0</td>\n",
              "      <td>0</td>\n",
              "    </tr>\n",
              "    <tr>\n",
              "      <th>3</th>\n",
              "      <td>hackers leak emails from uae ambassador to us</td>\n",
              "      <td>1.496511e+09</td>\n",
              "      <td>1.0</td>\n",
              "      <td>44</td>\n",
              "      <td>Hackers leak emails from UAE ambassador to US</td>\n",
              "      <td>0.92</td>\n",
              "      <td>0</td>\n",
              "      <td>0</td>\n",
              "      <td>0</td>\n",
              "      <td>0</td>\n",
              "      <td>...</td>\n",
              "      <td>0</td>\n",
              "      <td>0</td>\n",
              "      <td>0</td>\n",
              "      <td>0</td>\n",
              "      <td>0</td>\n",
              "      <td>0</td>\n",
              "      <td>0</td>\n",
              "      <td>0</td>\n",
              "      <td>0</td>\n",
              "      <td>0</td>\n",
              "    </tr>\n",
              "    <tr>\n",
              "      <th>5</th>\n",
              "      <td>this flower in my neighborhood</td>\n",
              "      <td>1.557764e+09</td>\n",
              "      <td>0.0</td>\n",
              "      <td>17</td>\n",
              "      <td>This flower in my neighborhood</td>\n",
              "      <td>0.92</td>\n",
              "      <td>0</td>\n",
              "      <td>0</td>\n",
              "      <td>0</td>\n",
              "      <td>0</td>\n",
              "      <td>...</td>\n",
              "      <td>0</td>\n",
              "      <td>0</td>\n",
              "      <td>0</td>\n",
              "      <td>0</td>\n",
              "      <td>0</td>\n",
              "      <td>0</td>\n",
              "      <td>0</td>\n",
              "      <td>0</td>\n",
              "      <td>0</td>\n",
              "      <td>0</td>\n",
              "    </tr>\n",
              "    <tr>\n",
              "      <th>6</th>\n",
              "      <td>puppy taking in the view</td>\n",
              "      <td>1.471341e+09</td>\n",
              "      <td>26.0</td>\n",
              "      <td>250</td>\n",
              "      <td>PsBattle: Puppy taking in the view</td>\n",
              "      <td>0.95</td>\n",
              "      <td>0</td>\n",
              "      <td>0</td>\n",
              "      <td>0</td>\n",
              "      <td>0</td>\n",
              "      <td>...</td>\n",
              "      <td>0</td>\n",
              "      <td>0</td>\n",
              "      <td>0</td>\n",
              "      <td>0</td>\n",
              "      <td>0</td>\n",
              "      <td>0</td>\n",
              "      <td>0</td>\n",
              "      <td>0</td>\n",
              "      <td>0</td>\n",
              "      <td>0</td>\n",
              "    </tr>\n",
              "  </tbody>\n",
              "</table>\n",
              "<p>5 rows × 27 columns</p>\n",
              "</div>\n",
              "      <button class=\"colab-df-convert\" onclick=\"convertToInteractive('df-425669dd-68ee-4c94-8929-9fa173d117f5')\"\n",
              "              title=\"Convert this dataframe to an interactive table.\"\n",
              "              style=\"display:none;\">\n",
              "        \n",
              "  <svg xmlns=\"http://www.w3.org/2000/svg\" height=\"24px\"viewBox=\"0 0 24 24\"\n",
              "       width=\"24px\">\n",
              "    <path d=\"M0 0h24v24H0V0z\" fill=\"none\"/>\n",
              "    <path d=\"M18.56 5.44l.94 2.06.94-2.06 2.06-.94-2.06-.94-.94-2.06-.94 2.06-2.06.94zm-11 1L8.5 8.5l.94-2.06 2.06-.94-2.06-.94L8.5 2.5l-.94 2.06-2.06.94zm10 10l.94 2.06.94-2.06 2.06-.94-2.06-.94-.94-2.06-.94 2.06-2.06.94z\"/><path d=\"M17.41 7.96l-1.37-1.37c-.4-.4-.92-.59-1.43-.59-.52 0-1.04.2-1.43.59L10.3 9.45l-7.72 7.72c-.78.78-.78 2.05 0 2.83L4 21.41c.39.39.9.59 1.41.59.51 0 1.02-.2 1.41-.59l7.78-7.78 2.81-2.81c.8-.78.8-2.07 0-2.86zM5.41 20L4 18.59l7.72-7.72 1.47 1.35L5.41 20z\"/>\n",
              "  </svg>\n",
              "      </button>\n",
              "      \n",
              "  <style>\n",
              "    .colab-df-container {\n",
              "      display:flex;\n",
              "      flex-wrap:wrap;\n",
              "      gap: 12px;\n",
              "    }\n",
              "\n",
              "    .colab-df-convert {\n",
              "      background-color: #E8F0FE;\n",
              "      border: none;\n",
              "      border-radius: 50%;\n",
              "      cursor: pointer;\n",
              "      display: none;\n",
              "      fill: #1967D2;\n",
              "      height: 32px;\n",
              "      padding: 0 0 0 0;\n",
              "      width: 32px;\n",
              "    }\n",
              "\n",
              "    .colab-df-convert:hover {\n",
              "      background-color: #E2EBFA;\n",
              "      box-shadow: 0px 1px 2px rgba(60, 64, 67, 0.3), 0px 1px 3px 1px rgba(60, 64, 67, 0.15);\n",
              "      fill: #174EA6;\n",
              "    }\n",
              "\n",
              "    [theme=dark] .colab-df-convert {\n",
              "      background-color: #3B4455;\n",
              "      fill: #D2E3FC;\n",
              "    }\n",
              "\n",
              "    [theme=dark] .colab-df-convert:hover {\n",
              "      background-color: #434B5C;\n",
              "      box-shadow: 0px 1px 3px 1px rgba(0, 0, 0, 0.15);\n",
              "      filter: drop-shadow(0px 1px 2px rgba(0, 0, 0, 0.3));\n",
              "      fill: #FFFFFF;\n",
              "    }\n",
              "  </style>\n",
              "\n",
              "      <script>\n",
              "        const buttonEl =\n",
              "          document.querySelector('#df-425669dd-68ee-4c94-8929-9fa173d117f5 button.colab-df-convert');\n",
              "        buttonEl.style.display =\n",
              "          google.colab.kernel.accessAllowed ? 'block' : 'none';\n",
              "\n",
              "        async function convertToInteractive(key) {\n",
              "          const element = document.querySelector('#df-425669dd-68ee-4c94-8929-9fa173d117f5');\n",
              "          const dataTable =\n",
              "            await google.colab.kernel.invokeFunction('convertToInteractive',\n",
              "                                                     [key], {});\n",
              "          if (!dataTable) return;\n",
              "\n",
              "          const docLinkHtml = 'Like what you see? Visit the ' +\n",
              "            '<a target=\"_blank\" href=https://colab.research.google.com/notebooks/data_table.ipynb>data table notebook</a>'\n",
              "            + ' to learn more about interactive tables.';\n",
              "          element.innerHTML = '';\n",
              "          dataTable['output_type'] = 'display_data';\n",
              "          await google.colab.output.renderOutput(dataTable, element);\n",
              "          const docLink = document.createElement('div');\n",
              "          docLink.innerHTML = docLinkHtml;\n",
              "          element.appendChild(docLink);\n",
              "        }\n",
              "      </script>\n",
              "    </div>\n",
              "  </div>\n",
              "  "
            ],
            "text/plain": [
              "                                         clean_title   created_utc  \\\n",
              "0  my walgreens offbrand mucinex was engraved wit...  1.551641e+09   \n",
              "2                this concerned sink with a tiny hat  1.534727e+09   \n",
              "3      hackers leak emails from uae ambassador to us  1.496511e+09   \n",
              "5                     this flower in my neighborhood  1.557764e+09   \n",
              "6                           puppy taking in the view  1.471341e+09   \n",
              "\n",
              "   num_comments  score                                              title  \\\n",
              "0           2.0     12  My Walgreens offbrand Mucinex was engraved wit...   \n",
              "2           2.0    119                This concerned sink with a tiny hat   \n",
              "3           1.0     44      Hackers leak emails from UAE ambassador to US   \n",
              "5           0.0     17                     This flower in my neighborhood   \n",
              "6          26.0    250                 PsBattle: Puppy taking in the view   \n",
              "\n",
              "   upvote_ratio  subreddit_confusing_perspective  subreddit_fakealbumcovers  \\\n",
              "0          0.84                                0                          0   \n",
              "2          0.99                                0                          0   \n",
              "3          0.92                                0                          0   \n",
              "5          0.92                                0                          0   \n",
              "6          0.95                                0                          0   \n",
              "\n",
              "   subreddit_fakefacts  subreddit_fakehistoryporn  ...  \\\n",
              "0                    0                          0  ...   \n",
              "2                    0                          0  ...   \n",
              "3                    0                          0  ...   \n",
              "5                    0                          0  ...   \n",
              "6                    0                          0  ...   \n",
              "\n",
              "   subreddit_propagandaposters  subreddit_satire  subreddit_savedyouaclick  \\\n",
              "0                            0                 0                         0   \n",
              "2                            0                 0                         0   \n",
              "3                            0                 0                         0   \n",
              "5                            0                 0                         0   \n",
              "6                            0                 0                         0   \n",
              "\n",
              "   subreddit_subredditsimulator  subreddit_subsimulatorgpt2  \\\n",
              "0                             0                           0   \n",
              "2                             0                           0   \n",
              "3                             0                           0   \n",
              "5                             0                           0   \n",
              "6                             0                           0   \n",
              "\n",
              "   subreddit_theonion  subreddit_upliftingnews  subreddit_usanews  \\\n",
              "0                   0                        0                  0   \n",
              "2                   0                        0                  0   \n",
              "3                   0                        0                  0   \n",
              "5                   0                        0                  0   \n",
              "6                   0                        0                  0   \n",
              "\n",
              "   subreddit_usnews  subreddit_waterfordwhispersnews  \n",
              "0                 0                                0  \n",
              "2                 0                                0  \n",
              "3                 0                                0  \n",
              "5                 0                                0  \n",
              "6                 0                                0  \n",
              "\n",
              "[5 rows x 27 columns]"
            ]
          },
          "execution_count": 17,
          "metadata": {},
          "output_type": "execute_result"
        }
      ],
      "source": [
        "X = X.drop(columns=['subreddit'])\n",
        "X.head()"
      ]
    },
    {
      "cell_type": "code",
      "execution_count": null,
      "metadata": {
        "colab": {
          "base_uri": "https://localhost:8080/"
        },
        "id": "UY5sknUuiMko",
        "outputId": "a51a8238-d159-4dfc-a70b-822aae91e437"
      },
      "outputs": [
        {
          "data": {
            "text/plain": [
              "Index(['clean_title', 'created_utc', 'num_comments', 'score', 'title',\n",
              "       'upvote_ratio', 'subreddit_confusing_perspective',\n",
              "       'subreddit_fakealbumcovers', 'subreddit_fakefacts',\n",
              "       'subreddit_fakehistoryporn', 'subreddit_mildlyinteresting',\n",
              "       'subreddit_misleadingthumbnails', 'subreddit_neutralnews',\n",
              "       'subreddit_nottheonion', 'subreddit_pareidolia',\n",
              "       'subreddit_photoshopbattles', 'subreddit_pic',\n",
              "       'subreddit_propagandaposters', 'subreddit_satire',\n",
              "       'subreddit_savedyouaclick', 'subreddit_subredditsimulator',\n",
              "       'subreddit_subsimulatorgpt2', 'subreddit_theonion',\n",
              "       'subreddit_upliftingnews', 'subreddit_usanews', 'subreddit_usnews',\n",
              "       'subreddit_waterfordwhispersnews'],\n",
              "      dtype='object')"
            ]
          },
          "execution_count": 18,
          "metadata": {},
          "output_type": "execute_result"
        }
      ],
      "source": [
        "X.columns"
      ]
    },
    {
      "cell_type": "markdown",
      "metadata": {
        "id": "iJR6iadMb82S"
      },
      "source": [
        "# NLP Processing"
      ]
    },
    {
      "cell_type": "code",
      "execution_count": null,
      "metadata": {
        "id": "DzC6Yp5_W1a2"
      },
      "outputs": [],
      "source": [
        "from random import randint"
      ]
    },
    {
      "cell_type": "markdown",
      "metadata": {
        "id": "qre95-2eWg5j"
      },
      "source": [
        "Using the short version of the dataset for NLP processing"
      ]
    },
    {
      "cell_type": "code",
      "execution_count": null,
      "metadata": {
        "colab": {
          "base_uri": "https://localhost:8080/"
        },
        "id": "bySs5pibWqF8",
        "outputId": "62cb02a7-96fd-452d-b8ed-8b40d8d94079"
      },
      "outputs": [
        {
          "data": {
            "text/plain": [
              "(521, 13)"
            ]
          },
          "execution_count": 21,
          "metadata": {},
          "output_type": "execute_result"
        }
      ],
      "source": [
        "labels.shape"
      ]
    },
    {
      "cell_type": "code",
      "execution_count": null,
      "metadata": {
        "colab": {
          "base_uri": "https://localhost:8080/",
          "height": 635
        },
        "id": "GvPRn8RbWgba",
        "outputId": "49db78f0-2f4d-4c82-d539-9a0b88c8f71e"
      },
      "outputs": [
        {
          "data": {
            "text/html": [
              "\n",
              "  <div id=\"df-6d1865bf-faac-4fd5-837d-a5091238429b\">\n",
              "    <div class=\"colab-df-container\">\n",
              "      <div>\n",
              "<style scoped>\n",
              "    .dataframe tbody tr th:only-of-type {\n",
              "        vertical-align: middle;\n",
              "    }\n",
              "\n",
              "    .dataframe tbody tr th {\n",
              "        vertical-align: top;\n",
              "    }\n",
              "\n",
              "    .dataframe thead th {\n",
              "        text-align: right;\n",
              "    }\n",
              "</style>\n",
              "<table border=\"1\" class=\"dataframe\">\n",
              "  <thead>\n",
              "    <tr style=\"text-align: right;\">\n",
              "      <th></th>\n",
              "      <th>Unnamed: 0</th>\n",
              "      <th>author</th>\n",
              "      <th>clean_title</th>\n",
              "      <th>created_utc</th>\n",
              "      <th>domain</th>\n",
              "      <th>num_comments</th>\n",
              "      <th>score</th>\n",
              "      <th>subreddit</th>\n",
              "      <th>title</th>\n",
              "      <th>upvote_ratio</th>\n",
              "      <th>2_way_label</th>\n",
              "      <th>3_way_label</th>\n",
              "      <th>6_way_label</th>\n",
              "    </tr>\n",
              "  </thead>\n",
              "  <tbody>\n",
              "    <tr>\n",
              "      <th>0</th>\n",
              "      <td>0</td>\n",
              "      <td>growingivy</td>\n",
              "      <td>sweet spider statue in des moines ia</td>\n",
              "      <td>1.570132e+09</td>\n",
              "      <td>i.redd.it</td>\n",
              "      <td>6.0</td>\n",
              "      <td>17</td>\n",
              "      <td>mildlyinteresting</td>\n",
              "      <td>Sweet spider statue in Des Moines, IA.</td>\n",
              "      <td>0.84</td>\n",
              "      <td>1</td>\n",
              "      <td>0</td>\n",
              "      <td>0</td>\n",
              "    </tr>\n",
              "    <tr>\n",
              "      <th>1</th>\n",
              "      <td>1</td>\n",
              "      <td>tedman1990</td>\n",
              "      <td>why dont you take a photo it lasts longer</td>\n",
              "      <td>1.414077e+09</td>\n",
              "      <td>NaN</td>\n",
              "      <td>NaN</td>\n",
              "      <td>48</td>\n",
              "      <td>psbattle_artwork</td>\n",
              "      <td>Why don't you take a photo, it lasts longer.</td>\n",
              "      <td>NaN</td>\n",
              "      <td>0</td>\n",
              "      <td>2</td>\n",
              "      <td>4</td>\n",
              "    </tr>\n",
              "    <tr>\n",
              "      <th>2</th>\n",
              "      <td>2</td>\n",
              "      <td>EarlESquirt</td>\n",
              "      <td>i was wondering what would beak first</td>\n",
              "      <td>1.388052e+09</td>\n",
              "      <td>NaN</td>\n",
              "      <td>NaN</td>\n",
              "      <td>360</td>\n",
              "      <td>psbattle_artwork</td>\n",
              "      <td>\"I was wondering what would beak first...\"</td>\n",
              "      <td>NaN</td>\n",
              "      <td>0</td>\n",
              "      <td>2</td>\n",
              "      <td>4</td>\n",
              "    </tr>\n",
              "    <tr>\n",
              "      <th>3</th>\n",
              "      <td>3</td>\n",
              "      <td>Panzerpup</td>\n",
              "      <td>lt george h w bush is shot down by the japanese</td>\n",
              "      <td>1.527452e+09</td>\n",
              "      <td>i.redd.it</td>\n",
              "      <td>1.0</td>\n",
              "      <td>11</td>\n",
              "      <td>fakehistoryporn</td>\n",
              "      <td>Lt. George H. W. Bush is shot down by the Japa...</td>\n",
              "      <td>0.93</td>\n",
              "      <td>0</td>\n",
              "      <td>2</td>\n",
              "      <td>2</td>\n",
              "    </tr>\n",
              "    <tr>\n",
              "      <th>4</th>\n",
              "      <td>4</td>\n",
              "      <td>ApiContraption</td>\n",
              "      <td>NaN</td>\n",
              "      <td>1.530592e+09</td>\n",
              "      <td>NaN</td>\n",
              "      <td>NaN</td>\n",
              "      <td>1</td>\n",
              "      <td>psbattle_artwork</td>\n",
              "      <td>NaN</td>\n",
              "      <td>NaN</td>\n",
              "      <td>0</td>\n",
              "      <td>2</td>\n",
              "      <td>4</td>\n",
              "    </tr>\n",
              "  </tbody>\n",
              "</table>\n",
              "</div>\n",
              "      <button class=\"colab-df-convert\" onclick=\"convertToInteractive('df-6d1865bf-faac-4fd5-837d-a5091238429b')\"\n",
              "              title=\"Convert this dataframe to an interactive table.\"\n",
              "              style=\"display:none;\">\n",
              "        \n",
              "  <svg xmlns=\"http://www.w3.org/2000/svg\" height=\"24px\"viewBox=\"0 0 24 24\"\n",
              "       width=\"24px\">\n",
              "    <path d=\"M0 0h24v24H0V0z\" fill=\"none\"/>\n",
              "    <path d=\"M18.56 5.44l.94 2.06.94-2.06 2.06-.94-2.06-.94-.94-2.06-.94 2.06-2.06.94zm-11 1L8.5 8.5l.94-2.06 2.06-.94-2.06-.94L8.5 2.5l-.94 2.06-2.06.94zm10 10l.94 2.06.94-2.06 2.06-.94-2.06-.94-.94-2.06-.94 2.06-2.06.94z\"/><path d=\"M17.41 7.96l-1.37-1.37c-.4-.4-.92-.59-1.43-.59-.52 0-1.04.2-1.43.59L10.3 9.45l-7.72 7.72c-.78.78-.78 2.05 0 2.83L4 21.41c.39.39.9.59 1.41.59.51 0 1.02-.2 1.41-.59l7.78-7.78 2.81-2.81c.8-.78.8-2.07 0-2.86zM5.41 20L4 18.59l7.72-7.72 1.47 1.35L5.41 20z\"/>\n",
              "  </svg>\n",
              "      </button>\n",
              "      \n",
              "  <style>\n",
              "    .colab-df-container {\n",
              "      display:flex;\n",
              "      flex-wrap:wrap;\n",
              "      gap: 12px;\n",
              "    }\n",
              "\n",
              "    .colab-df-convert {\n",
              "      background-color: #E8F0FE;\n",
              "      border: none;\n",
              "      border-radius: 50%;\n",
              "      cursor: pointer;\n",
              "      display: none;\n",
              "      fill: #1967D2;\n",
              "      height: 32px;\n",
              "      padding: 0 0 0 0;\n",
              "      width: 32px;\n",
              "    }\n",
              "\n",
              "    .colab-df-convert:hover {\n",
              "      background-color: #E2EBFA;\n",
              "      box-shadow: 0px 1px 2px rgba(60, 64, 67, 0.3), 0px 1px 3px 1px rgba(60, 64, 67, 0.15);\n",
              "      fill: #174EA6;\n",
              "    }\n",
              "\n",
              "    [theme=dark] .colab-df-convert {\n",
              "      background-color: #3B4455;\n",
              "      fill: #D2E3FC;\n",
              "    }\n",
              "\n",
              "    [theme=dark] .colab-df-convert:hover {\n",
              "      background-color: #434B5C;\n",
              "      box-shadow: 0px 1px 3px 1px rgba(0, 0, 0, 0.15);\n",
              "      filter: drop-shadow(0px 1px 2px rgba(0, 0, 0, 0.3));\n",
              "      fill: #FFFFFF;\n",
              "    }\n",
              "  </style>\n",
              "\n",
              "      <script>\n",
              "        const buttonEl =\n",
              "          document.querySelector('#df-6d1865bf-faac-4fd5-837d-a5091238429b button.colab-df-convert');\n",
              "        buttonEl.style.display =\n",
              "          google.colab.kernel.accessAllowed ? 'block' : 'none';\n",
              "\n",
              "        async function convertToInteractive(key) {\n",
              "          const element = document.querySelector('#df-6d1865bf-faac-4fd5-837d-a5091238429b');\n",
              "          const dataTable =\n",
              "            await google.colab.kernel.invokeFunction('convertToInteractive',\n",
              "                                                     [key], {});\n",
              "          if (!dataTable) return;\n",
              "\n",
              "          const docLinkHtml = 'Like what you see? Visit the ' +\n",
              "            '<a target=\"_blank\" href=https://colab.research.google.com/notebooks/data_table.ipynb>data table notebook</a>'\n",
              "            + ' to learn more about interactive tables.';\n",
              "          element.innerHTML = '';\n",
              "          dataTable['output_type'] = 'display_data';\n",
              "          await google.colab.output.renderOutput(dataTable, element);\n",
              "          const docLink = document.createElement('div');\n",
              "          docLink.innerHTML = docLinkHtml;\n",
              "          element.appendChild(docLink);\n",
              "        }\n",
              "      </script>\n",
              "    </div>\n",
              "  </div>\n",
              "  "
            ],
            "text/plain": [
              "   Unnamed: 0          author  \\\n",
              "0           0      growingivy   \n",
              "1           1      tedman1990   \n",
              "2           2     EarlESquirt   \n",
              "3           3       Panzerpup   \n",
              "4           4  ApiContraption   \n",
              "\n",
              "                                       clean_title   created_utc     domain  \\\n",
              "0             sweet spider statue in des moines ia  1.570132e+09  i.redd.it   \n",
              "1        why dont you take a photo it lasts longer  1.414077e+09        NaN   \n",
              "2            i was wondering what would beak first  1.388052e+09        NaN   \n",
              "3  lt george h w bush is shot down by the japanese  1.527452e+09  i.redd.it   \n",
              "4                                              NaN  1.530592e+09        NaN   \n",
              "\n",
              "   num_comments  score          subreddit  \\\n",
              "0           6.0     17  mildlyinteresting   \n",
              "1           NaN     48   psbattle_artwork   \n",
              "2           NaN    360   psbattle_artwork   \n",
              "3           1.0     11    fakehistoryporn   \n",
              "4           NaN      1   psbattle_artwork   \n",
              "\n",
              "                                               title  upvote_ratio  \\\n",
              "0             Sweet spider statue in Des Moines, IA.          0.84   \n",
              "1       Why don't you take a photo, it lasts longer.           NaN   \n",
              "2         \"I was wondering what would beak first...\"           NaN   \n",
              "3  Lt. George H. W. Bush is shot down by the Japa...          0.93   \n",
              "4                                                NaN           NaN   \n",
              "\n",
              "   2_way_label  3_way_label  6_way_label  \n",
              "0            1            0            0  \n",
              "1            0            2            4  \n",
              "2            0            2            4  \n",
              "3            0            2            2  \n",
              "4            0            2            4  "
            ]
          },
          "execution_count": 20,
          "metadata": {},
          "output_type": "execute_result"
        }
      ],
      "source": [
        "labels.head()"
      ]
    },
    {
      "cell_type": "code",
      "execution_count": null,
      "metadata": {
        "colab": {
          "base_uri": "https://localhost:8080/"
        },
        "id": "r9CIURTsW4nw",
        "outputId": "770ef90b-666b-46bf-be94-f72cd50e8c97"
      },
      "outputs": [
        {
          "name": "stdout",
          "output_type": "stream",
          "text": [
            "Normal Title: \"Again?\" Democratic Party Poster, South Korea, 2016\n",
            "Cleaned Title: again democratic party poster south korea\n",
            "--------------------------------------------------\n",
            "Normal Title: PsBattle: Dog having a cold swim\n",
            "Cleaned Title: dog having a cold swim\n",
            "--------------------------------------------------\n",
            "Normal Title: PsBattle: snowman with legs\n",
            "Cleaned Title: snowman with legs\n",
            "--------------------------------------------------\n",
            "Normal Title: Robot Devil (Futurama)\n",
            "Cleaned Title: robot devil futurama\n",
            "--------------------------------------------------\n",
            "Normal Title: Chancellor Merkel (x-post /r/4chan)\n",
            "Cleaned Title: chancellor merkel\n",
            "--------------------------------------------------\n",
            "Normal Title: Liking the new hairdo\n",
            "Cleaned Title: liking the new hairdo\n",
            "--------------------------------------------------\n",
            "Normal Title: Saunas, bars and cable TV: luxury world discovered inside Mexican riot prison\n",
            "Cleaned Title: saunas bars and cable tv luxury world discovered inside mexican riot prison\n",
            "--------------------------------------------------\n"
          ]
        }
      ],
      "source": [
        "for i in range(7):\n",
        "  index_val = randint(0,521)\n",
        "  print('Normal Title:', labels['title'][index_val])\n",
        "  print('Cleaned Title:', labels['clean_title'][index_val])\n",
        "  print('-'*50)"
      ]
    },
    {
      "cell_type": "code",
      "execution_count": null,
      "metadata": {
        "id": "e0wYbhHwa6l5"
      },
      "outputs": [],
      "source": [
        "title_data = labels[['clean_title', '2_way_label', '3_way_label', '6_way_label']].dropna()"
      ]
    },
    {
      "cell_type": "code",
      "execution_count": null,
      "metadata": {
        "colab": {
          "base_uri": "https://localhost:8080/"
        },
        "id": "Whwkk0rdXfYY",
        "outputId": "b0d875a6-b737-4562-e34d-044e5509b5ce"
      },
      "outputs": [
        {
          "data": {
            "text/plain": [
              "(465, 4)"
            ]
          },
          "execution_count": 71,
          "metadata": {},
          "output_type": "execute_result"
        }
      ],
      "source": [
        "title_data.shape"
      ]
    },
    {
      "cell_type": "code",
      "execution_count": null,
      "metadata": {
        "id": "kDvSV0R-bCmK"
      },
      "outputs": [],
      "source": [
        "title_texts = title_data['clean_title']\n",
        "title_labels = title_data[['2_way_label', '3_way_label', '6_way_label']]"
      ]
    },
    {
      "cell_type": "code",
      "execution_count": null,
      "metadata": {
        "colab": {
          "base_uri": "https://localhost:8080/"
        },
        "id": "vasj5l_qbNmJ",
        "outputId": "5bbc396f-3fe8-4d4e-8907-9348e706e644"
      },
      "outputs": [
        {
          "data": {
            "text/plain": [
              "0"
            ]
          },
          "execution_count": 73,
          "metadata": {},
          "output_type": "execute_result"
        }
      ],
      "source": [
        "title_texts.isnull().sum()"
      ]
    },
    {
      "cell_type": "code",
      "execution_count": null,
      "metadata": {
        "colab": {
          "base_uri": "https://localhost:8080/"
        },
        "id": "QBLyLW7PbRrF",
        "outputId": "10f85b87-fd21-4076-8b8a-3430161df457"
      },
      "outputs": [
        {
          "data": {
            "text/plain": [
              "2_way_label    0\n",
              "3_way_label    0\n",
              "6_way_label    0\n",
              "dtype: int64"
            ]
          },
          "execution_count": 74,
          "metadata": {},
          "output_type": "execute_result"
        }
      ],
      "source": [
        "title_labels.isnull().sum()"
      ]
    },
    {
      "cell_type": "code",
      "execution_count": null,
      "metadata": {
        "colab": {
          "base_uri": "https://localhost:8080/"
        },
        "id": "OupNgoUcXsom",
        "outputId": "2e86119d-b313-45c9-bb65-b5c2f2cd97ca"
      },
      "outputs": [
        {
          "name": "stdout",
          "output_type": "stream",
          "text": [
            "Title: the whales on my friends beer foam\n",
            "Label:  2\n",
            "--------------------------------------------------\n",
            "Title: other discussions\n",
            "Label:  4\n",
            "--------------------------------------------------\n",
            "Title: a spider crawled into my taillight and died\n",
            "Label:  0\n",
            "--------------------------------------------------\n",
            "Title: hitchhikers bread\n",
            "Label:  4\n",
            "--------------------------------------------------\n",
            "Title: garbage collectors open library with abandoned books\n",
            "Label:  0\n",
            "--------------------------------------------------\n",
            "Title: scolded\n",
            "Label:  4\n",
            "--------------------------------------------------\n",
            "Title: colorado deputy drove through the bomb cyclone to help save a newborns life\n",
            "Label:  0\n",
            "--------------------------------------------------\n"
          ]
        }
      ],
      "source": [
        "for i in range(7):\n",
        "  index_val = randint(0,465)\n",
        "  print('Title:', title_texts[index_val])\n",
        "  print('Label: ', title_labels['6_way_label'][index_val])\n",
        "  print('-'*50)"
      ]
    },
    {
      "cell_type": "code",
      "execution_count": null,
      "metadata": {
        "colab": {
          "base_uri": "https://localhost:8080/",
          "height": 297
        },
        "id": "gr1OUZGnYpOm",
        "outputId": "edbb9fa1-d8d1-42dd-9958-d01e3a6e1124"
      },
      "outputs": [
        {
          "data": {
            "text/plain": [
              "<matplotlib.axes._subplots.AxesSubplot at 0x7f31d7201e10>"
            ]
          },
          "execution_count": 79,
          "metadata": {},
          "output_type": "execute_result"
        },
        {
          "data": {
            "image/png": "[encoded data removed]",
            "text/plain": [
              "<Figure size 432x288 with 1 Axes>"
            ]
          },
          "metadata": {
            "needs_background": "light"
          },
          "output_type": "display_data"
        }
      ],
      "source": [
        "sns.histplot(title_labels['6_way_label'], bins = 12)"
      ]
    },
    {
      "cell_type": "code",
      "execution_count": null,
      "metadata": {
        "colab": {
          "base_uri": "https://localhost:8080/",
          "height": 297
        },
        "id": "CZZVdGPlY2Vu",
        "outputId": "f68b3f0b-b9b7-4555-9f3b-c1db3c1c8e97"
      },
      "outputs": [
        {
          "data": {
            "text/plain": [
              "<matplotlib.axes._subplots.AxesSubplot at 0x7f31d712ead0>"
            ]
          },
          "execution_count": 80,
          "metadata": {},
          "output_type": "execute_result"
        },
        {
          "data": {
            "image/png": "[encoded data removed]",
            "text/plain": [
              "<Figure size 432x288 with 1 Axes>"
            ]
          },
          "metadata": {
            "needs_background": "light"
          },
          "output_type": "display_data"
        }
      ],
      "source": [
        "sns.histplot(title_labels['3_way_label'], bins = 12)"
      ]
    },
    {
      "cell_type": "code",
      "execution_count": null,
      "metadata": {
        "colab": {
          "base_uri": "https://localhost:8080/",
          "height": 297
        },
        "id": "vA5CD2CbY37q",
        "outputId": "066a4ced-8cb2-4f11-e58c-e6c45e2ca265"
      },
      "outputs": [
        {
          "data": {
            "text/plain": [
              "<matplotlib.axes._subplots.AxesSubplot at 0x7f31d7099cd0>"
            ]
          },
          "execution_count": 81,
          "metadata": {},
          "output_type": "execute_result"
        },
        {
          "data": {
            "image/png": "[encoded data removed]",
            "text/plain": [
              "<Figure size 432x288 with 1 Axes>"
            ]
          },
          "metadata": {
            "needs_background": "light"
          },
          "output_type": "display_data"
        }
      ],
      "source": [
        "sns.histplot(title_labels['2_way_label'], bins = 12)"
      ]
    },
    {
      "cell_type": "code",
      "execution_count": null,
      "metadata": {
        "colab": {
          "base_uri": "https://localhost:8080/",
          "height": 412
        },
        "id": "rsq_H6pRc3ic",
        "outputId": "531158ac-3d40-4c87-e3c0-8ca819ba61f3"
      },
      "outputs": [
        {
          "data": {
            "image/png": "[encoded data removed]",
            "text/plain": [
              "<Figure size 576x432 with 1 Axes>"
            ]
          },
          "metadata": {
            "needs_background": "light"
          },
          "output_type": "display_data"
        }
      ],
      "source": [
        "from collections import Counter\n",
        "import string\n",
        "\n",
        "stpwrds = stopwords.words('english')\n",
        "punctuation = string.punctuation\n",
        "\n",
        "num_words = 15\n",
        "\n",
        "text = \" \".join(title_texts)\n",
        "\n",
        "text = \"\".join(_ for _ in text if _ not in punctuation)\n",
        "text = [t for t in text.split() if t not in stpwrds and not t.isdigit()]\n",
        "\n",
        "words = [_[0] for _ in Counter(text).most_common(num_words)]\n",
        "frequency = [_[1] for _ in Counter(text).most_common(num_words)]\n",
        "\n",
        "plt.figure(figsize=(8,6));\n",
        "ax = sns.barplot(x=frequency, y=words)\n",
        "ax.spines['top'].set_visible(False)\n",
        "ax.spines['right'].set_visible(False)\n",
        "plt.title(\"Most Frequent Keywords used in Reddits\");\n",
        "plt.xlabel(\"Frequency\", fontsize=14);\n",
        "plt.yticks(fontsize=14);\n",
        "plt.xticks(fontsize=14);"
      ]
    },
    {
      "cell_type": "code",
      "execution_count": null,
      "metadata": {
        "colab": {
          "base_uri": "https://localhost:8080/"
        },
        "id": "z9HkphWxboab",
        "outputId": "1a40a7c0-97fe-4d90-a894-049ff13f281e"
      },
      "outputs": [
        {
          "name": "stdout",
          "output_type": "stream",
          "text": [
            "(372,)\n",
            "(372, 3)\n",
            "(93,)\n",
            "(93, 3)\n"
          ]
        }
      ],
      "source": [
        "X_train, X_test, y_train, y_test = train_test_split(title_texts, title_labels, test_size=0.2, random_state=9)\n",
        "\n",
        "print(X_train.shape)\n",
        "print(y_train.shape)\n",
        "print(X_test.shape)\n",
        "print(y_test.shape)"
      ]
    },
    {
      "cell_type": "code",
      "execution_count": null,
      "metadata": {
        "colab": {
          "base_uri": "https://localhost:8080/"
        },
        "id": "Rb2cUcHxb4my",
        "outputId": "358fab77-ab3c-4ac4-fad4-d7800b9b50f8"
      },
      "outputs": [
        {
          "name": "stderr",
          "output_type": "stream",
          "text": [
            "[nltk_data] Downloading package stopwords to /root/nltk_data...\n",
            "[nltk_data]   Package stopwords is already up-to-date!\n",
            "[nltk_data] Downloading package wordnet to /root/nltk_data...\n",
            "[nltk_data]   Package wordnet is already up-to-date!\n",
            "[nltk_data] Downloading package punkt to /root/nltk_data...\n",
            "[nltk_data]   Package punkt is already up-to-date!\n"
          ]
        },
        {
          "data": {
            "text/plain": [
              "True"
            ]
          },
          "execution_count": 85,
          "metadata": {},
          "output_type": "execute_result"
        }
      ],
      "source": [
        "nltk.download('stopwords')\n",
        "nltk.download('wordnet')\n",
        "nltk.download('punkt')"
      ]
    },
    {
      "cell_type": "code",
      "execution_count": null,
      "metadata": {
        "id": "WJuiq17-n7X9"
      },
      "outputs": [],
      "source": [
        "def process_lang_data(text):\n",
        "  '''Tokenize the text, remove stopwards, go through lemmatization, and remove punctuation'''\n",
        "  cleaned_text = []\n",
        "  punctuation = string.punctuation\n",
        "  our_stopwords = stopwords.words('english')\n",
        "  lemmatizer = WordNetLemmatizer()\n",
        "\n",
        "  for token in word_tokenize(text):\n",
        "    if token not in punctuation and token not in our_stopwords:\n",
        "      clipped_token = lemmatizer.lemmatize(token)\n",
        "      cleaned_text.append(clipped_token)\n",
        "\n",
        "  return cleaned_text"
      ]
    },
    {
      "cell_type": "markdown",
      "metadata": {
        "id": "aMG-8VD_cPwd"
      },
      "source": [
        "## CountVectorizer"
      ]
    },
    {
      "cell_type": "markdown",
      "metadata": {
        "id": "QTLPh9EpcSD2"
      },
      "source": [
        "Uses one-hot encoding combined to make a bag of words model. Vectors from this are the length of the overall vocabulary, and the number in each location in the vector corresponds to how many times the associated words appears in a sentence"
      ]
    },
    {
      "cell_type": "code",
      "execution_count": null,
      "metadata": {
        "colab": {
          "base_uri": "https://localhost:8080/"
        },
        "id": "1UW7S2wPoPS-",
        "outputId": "67c71b97-ccf0-47a8-edf9-509f79a65bac"
      },
      "outputs": [
        {
          "name": "stderr",
          "output_type": "stream",
          "text": [
            "[nltk_data] Downloading package omw-1.4 to /root/nltk_data...\n"
          ]
        },
        {
          "data": {
            "text/plain": [
              "True"
            ]
          },
          "execution_count": 88,
          "metadata": {},
          "output_type": "execute_result"
        }
      ],
      "source": [
        "nltk.download('omw-1.4')"
      ]
    },
    {
      "cell_type": "code",
      "execution_count": null,
      "metadata": {
        "id": "_wIIaAUoniv0"
      },
      "outputs": [],
      "source": [
        "from sklearn.feature_extraction.text import CountVectorizer\n",
        "\n",
        "bow = CountVectorizer(analyzer=process_lang_data, max_features=1000) # 1000 to 250\n",
        "\n",
        "bow.fit(X_train) # fitting to our training data\n",
        "\n",
        "bow_train = bow.transform(X_train).toarray() # then transforming both training and testing data\n",
        "bow_test = bow.transform(X_test).toarray()"
      ]
    },
    {
      "cell_type": "markdown",
      "metadata": {
        "id": "qlR8Tttycyom"
      },
      "source": [
        "## TF-IDF"
      ]
    },
    {
      "cell_type": "markdown",
      "metadata": {
        "id": "OlNjMrw8c1D4"
      },
      "source": [
        "TF-IDF = Term Frequency Inverse Document Frequency. It includes information about the individual word, the document, and the overall corpus of words. \n",
        "\n",
        "Term Frequency calculates the probability of a word being in a document. If a term frequency for a word in a document is high, it means the word appears frequently in that document.\n",
        "\n",
        "Inverse Document Frequency says how frequently the word is in the entire corpus. If Inverse Document Frequency is low, implies the word is frequent in the corpus."
      ]
    },
    {
      "cell_type": "code",
      "execution_count": null,
      "metadata": {
        "id": "p8n57_GPc0qP"
      },
      "outputs": [],
      "source": [
        "from sklearn.feature_extraction.text import TfidfVectorizer\n",
        "\n",
        "tfidf = TfidfVectorizer(analyzer=process_lang_data, max_features=1000)\n",
        "\n",
        "tfidf.fit(X_train)\n",
        "\n",
        "tfidf_train = tfidf.transform(X_train).toarray()\n",
        "tfidf_test = tfidf.transform(X_test).toarray()"
      ]
    },
    {
      "cell_type": "markdown",
      "metadata": {
        "id": "GfACUY8teKmt"
      },
      "source": [
        "## Word2Vec"
      ]
    },
    {
      "cell_type": "markdown",
      "metadata": {
        "id": "qwXHjBIPeMMe"
      },
      "source": [
        "Here, each word is converted into its own embedding vector. Word vectors are created such that words that share common contexts in the corpus are located close to one another in the space."
      ]
    },
    {
      "cell_type": "code",
      "execution_count": null,
      "metadata": {
        "colab": {
          "base_uri": "https://localhost:8080/"
        },
        "id": "iQYfkll2ePHz",
        "outputId": "5642766d-f2ad-4c91-ea08-0d1ee324fe93"
      },
      "outputs": [
        {
          "name": "stderr",
          "output_type": "stream",
          "text": [
            "WARNING:gensim.models.base_any2vec:under 10 jobs per worker: consider setting a smaller `batch_words' for smoother alpha decay\n",
            "WARNING:gensim.models.base_any2vec:under 10 jobs per worker: consider setting a smaller `batch_words' for smoother alpha decay\n"
          ]
        },
        {
          "data": {
            "text/plain": [
              "(42261, 43460)"
            ]
          },
          "execution_count": 92,
          "metadata": {},
          "output_type": "execute_result"
        }
      ],
      "source": [
        "import gensim\n",
        "# have to pre-tokenize\n",
        "tokenize = title_texts.apply(process_lang_data)\n",
        "\n",
        "# take a look at the documentation to see what these parameters are changing!\n",
        "w2vec_model = gensim.models.Word2Vec(tokenize, min_count = 1, size = 100, window = 5, sg = 1)\n",
        "w2vec_model.train(tokenize, total_examples = len(title_texts),epochs=20)"
      ]
    },
    {
      "cell_type": "code",
      "execution_count": null,
      "metadata": {
        "colab": {
          "base_uri": "https://localhost:8080/"
        },
        "id": "8iof9cYVeYL5",
        "outputId": "d938c090-b6eb-4b5a-cf63-e8b0ef421813"
      },
      "outputs": [
        {
          "name": "stdout",
          "output_type": "stream",
          "text": [
            "['sweet', 'spider', 'statue', 'de', 'moines', 'ia', 'dont', 'take', 'photo', 'last', 'longer', 'wondering', 'would', 'beak', 'first', 'lt', 'george', 'h', 'w', 'bush', 'shot', 'japanese', 'life', 'heartwarming', 'mother', 'claimed', 'son', 'joined', 'isi', 'people', 'wouldnt', 'know', 'blew', 'accident', 'whistleblower', 'disrupt', 'american', 'politics', 'happy', 'day', 'gay', 'marriage', 'seattle', 'gary', 'johnson', 'poll', 'libertarian', 'candidate', 'making', 'major', 'inroad', 'latino', 'voter', 'grows', 'closer', 'percent', 'threshold', 'join', 'debate', 'light', 'liam', 'bride', 'groom', 'reaction', 'maroon', 'crashing', 'wedding', 'least', 'heineken', 'wheel', 'cheese', 'bad', 'got', 'dollar', 'buying', 'snack', 'straw', 'came', 'closed', 'end', 'head', 'reeeee', 'taken', 'second', 'death', 'tupac', 'shakur', 'c', 'deepdream', 'old', 'nonelectric', 'shavertrimmer', 'belonged', 'grandfather', 'dog', 'cold', 'swim', 'president', 'obama', 'want', 'new', 'car', 'smell', 'campaign', 'jonathan', 'slater', 'thus', 'make', 'indispensable', 'la', 'council', 'ok', 'law', 'limiting', 'homeless', 'belonging', 'fit', 'trash', 'bin', 'little', 'league', 'super', 'star', 'earth', 'porn', 'red', 'sticker', 'look', 'one', 'ball', 'instead', 'using', 'plastic', 'cafe', 'italy', 'used', 'long', 'piece', 'pasta', 'united', 'state', 'america', 'chomsky', 'karate', 'guy', 'jumping', 'wheelbarrow', 'burn', 'victim', 'cadaver', 'table', 'olive', 'ave', 'burbank', 'california', 'childrens', 'rally', 'soviet', 'union', 'marry', 'legally', 'washington', 'disgusted', 'financial', 'mistake', 'older', 'butterfly', 'clown', 'like', 'face', 'wing', 'friend', 'twin', 'brother', 'sleep', 'tight', 'princess', 'leia', 'germany', 'allied', 'nation', 'signing', 'treaty', 'versailles', 'th', 'brain', 'blue', 'note', 'jazz', 'album', 'squirrel', 'riding', 'horse', 'country', 'monaco', 'train', 'run', 'french', 'rail', 'system', 'boop', 'fish', 'naxos', 'greece', 'lesbian', 'farmer', 'invasion', 'rush', 'limbaughs', 'latest', 'conspiracy', 'theory', 'panda', 'express', 'founder', 'donate', 'million', 'caltechs', 'medical', 'engineering', 'department', 'wait', 'boy', 'road', 'family', 'grand', 'theft', 'auto', 'v', 'finally', 'mastered', 'discussion', 'drop', 'next', 'month', 'uncovered', 'tonne', 'granite', 'vladimir', 'lenin', 'hoisted', 'crane', 'operator', 'york', 'teen', 'offer', 'carry', 'grocery', 'food', 'get', 'unexpected', 'outpouring', 'support', 'fb', 'post', 'true', 'resident', 'easter', 'island', 'taking', 'break', 'breaking', 'thing', 'cat', 'stretching', 'floor', 'circumcision', 'protestor', 'marine', 'investigated', 'salacious', 'sharing', 'woman', 'service', 'member', 'slightly', 'ironic', 'signage', 'wendys', 'let', 'put', 'smile', 'style', 'photobombing', 'fuck', 'rank', 'religion', 'businesswoman', 'clenching', 'biting', 'laptop', 'frustration', 'cardboard', 'robot', 'insert', 'printer', 'box', 'detail', 'scolded', 'good', 'owl', 'ugly', 'uber', 'selfdriving', 'strike', 'kill', 'pedestrian', 'arizona', 'nice', 'hair', 'height', 'blitz', 'two', 'world', 'tie', 'bind', 'blindfolded', 'taster', 'record', 'received', 'stick', 'gum', 'alka', 'seltzer', 'dissolving', 'ultra', 'violet', 'bearing', 'overrun', 'college', 'campus', 'batman', 'mountain', 'feed', 'midnight', 'tasty', 'sidewalk', 'either', 'indifferent', 'experiencing', 'slight', 'unease', 'work', 'local', 'paper', 'comic', 'struggle', 'real', 'read', 'official', 'ballot', 'russian', 'election', 'colorado', 'deputy', 'drove', 'bomb', 'cyclone', 'help', 'save', 'newborn', 'building', 'big', 'ship', 'shanghai', 'fine', 'art', 'publishing', 'house', 'revealing', 'shadow', 'kid', 'book', 'ocean', 'travel', 'there', 'error', 'way', 'senate', 'pass', 'bill', 'restore', 'net', 'neutrality', 'connecticut', 'need', 'see', 'cutout', 'bear', 'sleeping', 'back', 'toy', 'store', 'mall', 'go', 'smaller', 'entrance', 'vow', 'quit', 'gold', 'toilet', 'found', 'golf', 'fantasy', 'adventure', 'awaits', 'done', 'alcoholic', 'bottle', 'magnifying', 'glass', 'name', 'inside', 'pizza', 'tuxedo', 'kangaroo', 'ripped', 'muscle', 'beat', 'wolfception', 'matched', 'shape', 'tongue', 'chew', 'wanted', 'simon', 'garfunkel', 'posing', 'release', 'sound', 'silence', 'outside', 'adorable', 'letting', 'huge', 'yawn', 'lounging', 'blanket', 'ive', 'made', 'hashtagehmergahd', 'berlin', 'avenue', 'victory', 'pavel', 'petrovich', 'sokolovskalia', 'smiling', 'oh', 'shit', 'minor', 'hoggle', 'weird', 'position', 'garbage', 'collector', 'open', 'library', 'abandoned', 'blizzard', 'warning', 'hawaii', 'delay', 'telescope', 'construction', 'hook', 'knocked', 'unconscious', 'lied', 'everyone', 'think', 'chillin', 'notre', 'dame', 'treasure', 'rescued', 'devastating', 'fire', 'wow', 'avocado', 'exactly', 'interesting', 'small', 'uno', 'card', 'give', 'high', 'five', 'child', 'flying', 'air', 'onlooker', 'scheming', 'mom', 'seek', 'paid', 'girlfriend', 'harvardbound', 'virgin', 'craigslist', 'joker', 'yawning', 'canada', 'legislation', 'ending', 'import', 'export', 'shark', 'fin', 'quantum', 'hoodlum', 'stolen', 'identity', 'joust', 'steven', 'spielberg', 'recall', 'coming', 'blow', 'et', 'film', 'set', 'fortune', 'typo', 'austrian', 'postal', 'worker', 'resort', 'bribery', 'tint', 'top', 'windshield', 'perfectly', 'blended', 'sky', 'pirate', 'helm', 'master', 'splinter', 'stepping', 'stool', 'public', 'washroom', 'obligatory', 'swap', 'phenomenon', 'occurs', 'whenever', 'hand', 'kkk', 'group', 'launch', 'neighborhood', 'watch', 'pa', 'township', 'cover', 'minecraft', 'evil', 'dead', 'picture', 'forest', 'vacuum', 'sealed', 'samsung', 'reveals', 'foldable', 'smartphone', 'mormon', 'church', 'admits', 'joseph', 'smith', 'wife', 'sheet', 'metal', 'obamas', 'show', 'something', 'disney', 'revived', 'iconic', 'ice', 'cream', 'treat', 'mickey', 'birthday', 'leviosa', 'russia', 'intervened', 'promote', 'trump', 'u', 'intelligence', 'remember', 'scooty', 'puff', 'junior', 'suuuuuucks', 'destination', 'unknown', 'held', 'play', 'symphony', 'space', 'went', 'british', 'ww', 'underground', 'bunker', 'malta', 'painting', 'spanish', 'pioneer', 'recounting', 'wilderness', 'shop', 'tried', 'best', 'bunny', 'videogamey', 'queen', 'reported', 'west', 'yorkshire', 'police', 'wearing', 'seat', 'belt', 'grass', 'diego', 'maradona', 'celebrating', 'argentina', 'goal', 'supposed', 'im', 'feeling', 'well', 'attempting', 'acroyoga', 'time', 'shipwreck', 'beach', 'growing', 'mushroom', 'lannister', 'speaks', 'stalin', 'parading', 'around', 'captured', 'capitalist', 'spy', 'circa', 'toronto', 'tunnel', 'mystery', 'solved', 'men', 'built', 'personal', 'reason', 'satisfies', 'sadness', 'plug', 'overwhelmingoc', 'stuck', 'spongebob', 'squarepants', 'violent', 'indonesia', 'broadcast', 'watchdog', 'bird', 'shore', 'cliff', 'girl', 'class', 'angle', 'said', 'fence', 'picket', 'never', 'separated', 'another', 'strange', 'cant', 'jonah', 'hold', 'coffee', 'perfecto', 'molt', 'spot', 'accidentally', 'squirting', 'mouthwash', 'onto', 'sink', 'presidential', 'address', 'party', 'pet', 'vending', 'machine', 'outdoor', 'patio', 'looking', 'mongrel', 'ever', 'eye', 'contact', 'saturn', 'north', 'pole', 'changed', 'color', 'nobody', 'l', 'weather', 'indued', 'wardrobe', 'malfunction', 'central', 'power', 'truce', 'share', 'common', 'interest', 'belting', 'opera', 'singer', 'bench', 'label', 'maker', 'saw', 'thx', 'rabbit', 'slab', 'must', 'plate', 'please', 'antivaxxer', 'tweeting', 'man', 'going', 'grab', 'guitar', 'fourtrack', 'cabin', 'wood', 'shittiest', 'anyones', 'heard', 'result', 'youth', 'portuguese', 'legion', 'seen', 'baby', 'slug', 'moment', 'lighter', 'scale', 'nerd', 'reich', 'destroyed', 'loyal', 'x', 'poster', 'reichstag', 'final', 'fight', 'burger', 'lidl', 'mac', 'indian', 'traditional', 'hunting', 'garb', 'prepare', 'winter', 'bc', 'war', 'loan', 'austria', 'gotcha', 'catchem', 'average', 'gummy', 'jolly', 'fun', 'runner', 'black', 'panther', 'resting', 'tree', 'questionable', 'hole', 'turkish', 'soda', 'drank', 'ingredient', 'shaped', 'um', 'fall', 'boyfriend', 'clifftop', 'proposal', 'beware', 'wheelchair', 'naked', 'burglar', 'sneak', 'home', 'laundry', 'snake', 'across', 'river', 'managed', 'tennessee', 'officer', 'bridge', 'jumper', 'rabbi', 'ban', 'bike', 'provocative', 'white', 'original', 'ronald', 'mcdonald', 'hitchhiker', 'bread', 'return', 'spending', 'lost', 'greek', 'debt', 'deal', 'place', 'level', 'pond', 'aint', 'journey', 'tell', 'difference', 'heck', 'animal', 'rescuer', 'nurse', 'creature', 'health', 'jeff', 'bezos', 'smartest', 'amazon', 'arrested', 'allegedly', 'san', 'zoo', 'try', 'clothes', 'nerf', 'gun', 'warrior', 'inspiration', 'corso', 'headgear', 'michigan', 'penn', 'lift', 'famous', 'airline', 'pay', 'extra', 'youve', 'always', 'plane', 'number', 'user', 'actually', 'enjoy', 'facebook', 'entered', 'game', 'much', 'intensity', 'pristine', 'lowood', 'green', 'apocalypse', 'misty', 'mountainscape', 'caused', 'humidity', 'frosted', 'doublelayered', 'window', 'confronted', 'concept', 'bath', 'jack', 'web', 'process', 'even', 'youre', 'tough', 'panting', 'bulldog', 'kitchen', 'cabinet', 'yin', 'yang', 'pewdiepies', 'wall', 'street', 'journal', 'article', 'dad', 'heathen', 'getting', 'away', 'crawled', 'taillight', 'died', 'burned', 'find', 'took', 'care', 'yr', 'later', 'searching', 'year', 'clint', 'eastwood', 'here', 'mine', 'eurovision', 'bus', 'driver', 'mexico', 'waved', 'highway', 'swedish', 'slave', 'trade', 'turn', 'change', 'temperature', 'kelvin', 'running', 'marathon', 'charity', 'called', 'tommys', 'fund', 'research', 'premature', 'birth', 'stillbirth', 'miscarriage', 'mile', 'night', 'he', 'garfield', 'animated', 'series', 'crush', 'competitor', 'including', 'rick', 'morty', 'becomes', 'program', 'television', 'mueller', 'moving', 'quickly', 'compared', 'past', 'special', 'counsel', 'investigation', 'cyclops', 'hotel', 'waffle', 'mudice', 'froze', 'direction', 'grew', 'whats', 'eating', 'gilbert', 'grape', 'arnie', 'sharkasaurus', 'crust', 'available', 'badger', 'stoat', 'otter', 'stage', 'incredible', 'revival', 'uk', 'ago', 'today', 'brave', 'fighter', 'pilot', 'sacrifice', 'self', 'rest', 'total', 'destruction', 'thought', 'spinning', 'kick', 'spent', 'far', 'unspeakably', 'disgusting', 'stanley', 'kubrick', 'created', 'odyssey', 'trippiest', 'scene', 'chancellor', 'merkel', 'reheated', 'cooled', 'became', 'solid', 'block', 'wut', 'fucked', 'measles', 'antisemitism', 'swing', 'dance', 'celebrate', 'thirty', 'decolorized', 'fusion', 'airport', 'bathroom', 'whatever', 'hanging', 'thrift', 'salvation', 'army', 'gosling', 'cart', 'appears', 'floating', 'dan', 'bilzerian', 'giant', 'tennis', 'racket', 'ta', 'catch', 'em', 'seems', 'pretty', 'eager', 'caption', 'roof', 'naughty', 'secret', 'truth', 'consequence', 'david', 'cameron', 'stand', 'parliament', 'pink', 'sign', 'infinity', 'gauntlet', 'crashed', 'lazy', 'fabulous', 'different', 'side', 'order', 'bar', 'soap', 'sitting', 'eagle', 'attack', 'clone', 'lady', 'enjoying', 'daily', 'succulent', 'plant', 'south', 'texas', 'snowman', 'leg', 'disaster', 'pratt', 'human', 'beatbox', 'battle', 'showing', 'come', 'sergio', 'ramos', 'defender', 'madrid', 'spain', 'pose', 'training', 'session', 'dancing', 'roar', 'remove', 'bag', 'revenge', 'cut', 'glove', 'spector', 'unique', 'facial', 'expression', 'laser', 'measuring', 'staggering', 'foot', 'tall', 'andre', 'roussimoff', 'young', 'basking', 'cannes', 'france', 'say', 'hello', 'body', 'smoke', 'wwi', 'appeal', 'tobacco', 'bend', 'led', 'downlight', 'apparently', 'shine', 'ghost', 'annoying', 'amount', 'shirt', 'dry', 'summer', 'brief', 'period', 'boston', 'legalized', 'humanskeleton', 'however', 'repealed', 'skeleton', 'turned', 'musician', 'moonrose', 'aesthetic', 'stevie', 'wonder', 'working', 'lyric', 'hit', 'superstition', 'hospital', 'staff', 'school', 'senior', 'rare', 'skin', 'disease', 'attend', 'prom', 'logic', 'dbsa', 'pls', 'jump', 'asshole', 'fighting', 'jennifer', 'lawrence', 'arm', 'terrified', 'whale', 'beer', 'foam', 'dissolution', 'guess', 'foundation', 'caught', 'illegal', 'funding', 'scheme', 'holding', 'syringe', 'christ', 'challenge', 'carolina', 'twoway', 'npr', 'hell', 'outta', 'ariel', 'sauna', 'cable', 'tv', 'luxury', 'discovered', 'mexican', 'riot', 'prison', 'kelly', 'ripa', 'dick', 'joke', 'redcoat', 'holdout', 'still', 'revolution', 'elephant', 'seal', 'slide', 'along', 'devil', 'futurama', 'img', 'assassination', 'john', 'f', 'kennedy', 'nd', 'heavy', 'amber', 'guyger', 'guilty', 'murder', 'fatal', 'shooting', 'botham', 'jean', 'democratic', 'korea', 'worn', 'touch', 'pad', 'controller', 'gained', 'sentience', 'wayward', 'galveston', 'pooch', 'indiana', 'study', 'stress', 'cuddling', 'fractalesque', 'calligraphy', 'ink', 'dried', 'doesnt', 'enough', 'sun', 'solar', 'feasible', 'energy', 'source', 'gang', 'm', 'grip', 'suburb', 'violence', 'disciplined', 'exeter', 'university', 'named', 'britain', 'horniest', 'student', 'dating', 'website', 'sam', 'ya', 'creep', 'christopher', 'columbus', 'sail', 'walked', 'sex', 'yearold', 'prosecutor', 'en', 'garde', 'tesla', 'cheapest', 'model', 'variant', 'price', 'simplify', 'lineup', 'fuel', 'gauge', 'lying', 'pinocchio', 'confirms', 'scott', 'walker', 'bought', 'sweater', 'threatens', 'largest', 'wild', 'salmon', 'chinese', 'ticket', 'scratching', 'chernobyl', 'nuclear', 'reactor', 'swan', 'darkness', 'closely', 'donald', 'shut', 'government', 'border', 'egyptian', 'swimmer', 'syndrome', 'ready', 'cross', 'english', 'channel', 'vaccination', 'steamcluck', 'chicken', 'cartridge', 'water', 'exact', 'font', 'brand', 'foxy', 'ride', 'waving', 'goodbye', 'hey', 'somebody', 'photoshop', 'near', 'minnesota', 'protest', 'killing', 'respiratory', 'illness', 'escalates', 'among', 'kind', 'belief', 'socialist', 'right', 'waiting', 'video', 'sr', 'sub', 'fallen', 'badly', 'pocket', 'motorcycle', 'surprise', 'biker', 'community', 'awesome', 'bee', 'pooped', 'walking', 'doghouse', 'happened', 'chainsmoking', 'keanu', 'reef', 'hippy', 'marketplace', 'sinister', 'someone', 'uploaded', 'macysdayparadeflyerv', 'site', 'drinking', 'job', 'customer', 'drink', 'split', 'rock', 'location', 'stanwell', 'park', 'nsw', 'australia', 'cool', 'anxious', 'recycling', 'merry', 'round', 'sentence', 'browder', 'campaigned', 'magnitsky', 'case', 'african', 'awkward', 'epic', 'recruitment', 'chocolate', 'tax', 'form', 'imprinted', 'hero', 'foster', 'eight', 'orphan', 'hedgehog', 'saving', 'schizo', 'sunflower', 'christmas', 'present', 'pineapple', 'sensation', 'hundred', 'liability', 'justin', 'trudeau', 'india', 'great', 'leader', 'spare', 'unitinu', 'mean', 'obvious', 'bug', 'catcher', 'puppy', 'changing', 'teeth', 'didnt', 'yet', 'sharkdog', 'theyre', 'diglett', 'canadian', 'soldier', 'carrying', 'macadam', 'sniper', 'shieldshovel', 'edited', 'lot', 'whiskey', 'brigade', 'yesterday', 'tomorrow', 'honor', 'statuesque', 'soon', 'believe', 'killed', 'military', 'raid', 'colonial', 'iron', 'collection', 'irish', 'republican', 'memorial', 'mural', 'belfast', 'derry', 'painted', 'sucked', 'considers', 'telling', 'gynecologist', 'whole', 'pack', 'cigarette', 'putin', 'circled', 'fluorine', 'confused', 'braille', 'handbook', 'traffic', 'released', 'bronzer', 'palette', 'sister', 'blush', 'sunlight', 'osborne', 'mojo', 'glue', 'live', 'king', 'feather', 'attached', 'egg', 'missing', 'handle', 'liking', 'hairdo', 'dusk', 'rescue', 'drowning', 'sell', 'middle', 'finger', 'sit', 'lap', 'china', 'blarts']\n"
          ]
        }
      ],
      "source": [
        "words = list(w2vec_model.wv.vocab)\n",
        "print(words)"
      ]
    },
    {
      "cell_type": "code",
      "execution_count": null,
      "metadata": {
        "colab": {
          "base_uri": "https://localhost:8080/"
        },
        "id": "pyluO25SejGU",
        "outputId": "fbb25bfa-f19c-4ec7-bfd6-a10e15b43aeb"
      },
      "outputs": [
        {
          "name": "stderr",
          "output_type": "stream",
          "text": [
            "/usr/local/lib/python3.7/dist-packages/ipykernel_launcher.py:1: DeprecationWarning: Call to deprecated `__getitem__` (Method will be removed in 4.0.0, use self.wv.__getitem__() instead).\n",
            "  \"\"\"Entry point for launching an IPython kernel.\n"
          ]
        }
      ],
      "source": [
        "X = w2vec_model[w2vec_model.wv.vocab]"
      ]
    },
    {
      "cell_type": "markdown",
      "metadata": {
        "id": "uP59_BsBekb5"
      },
      "source": [
        "## Word2Vec - Spacy"
      ]
    },
    {
      "cell_type": "markdown",
      "metadata": {
        "id": "yLQjZTjIem5a"
      },
      "source": [
        "Pre-trained Word2Vec"
      ]
    },
    {
      "cell_type": "code",
      "execution_count": null,
      "metadata": {
        "id": "jmLjXYZsebmQ"
      },
      "outputs": [],
      "source": [
        "import spacy\n",
        "from spacy.lang.en.examples import sentences \n",
        "from spacy.lang.en.stop_words import STOP_WORDS\n",
        "\n",
        "text_to_nlp = spacy.load(\"en_core_web_sm\") # loading in the model"
      ]
    },
    {
      "cell_type": "code",
      "execution_count": null,
      "metadata": {
        "id": "nOzRXnqmetUI"
      },
      "outputs": [],
      "source": [
        "def tokenize_vecs(text):\n",
        "    clean_tokens = []\n",
        "    for token in text_to_nlp(text):\n",
        "        if (not token.is_stop) & (token.lemma_ != '-PRON-') & (not token.is_punct): \n",
        "          # -PRON- is a special all inclusive \"lemma\" spaCy uses for any pronoun, we want to exclude these \n",
        "            clean_tokens.append(token)\n",
        "    return np.array(clean_tokens)"
      ]
    },
    {
      "cell_type": "code",
      "execution_count": null,
      "metadata": {
        "id": "hhswkslPet65"
      },
      "outputs": [],
      "source": [
        "def sum_vectors():\n",
        "  '''\n",
        "    Returns the sum of the embedding vectors\n",
        "  '''\n",
        "  tokenized_vectors = title_texts.apply(tokenize_vecs)\n",
        "  return np.array(tokenized_vectors.apply(lambda x: np.sum([w.vector for w in x])))"
      ]
    },
    {
      "cell_type": "code",
      "execution_count": null,
      "metadata": {
        "id": "wWfOlz4YexaL"
      },
      "outputs": [],
      "source": [
        "def sum_and_avg_vectors():\n",
        "  '''\n",
        "    Returns the sum of the embedding vectors\n",
        "  '''\n",
        "  tokenized_vectors = title_texts.apply(tokenize_vecs)\n",
        "  return np.array(tokenized_vectors.apply(lambda x: np.sum([w.vector for w in x])/len(x)))"
      ]
    },
    {
      "cell_type": "markdown",
      "metadata": {
        "id": "Vp6zaeUTjcBw"
      },
      "source": [
        "# CV Processing"
      ]
    },
    {
      "cell_type": "code",
      "execution_count": null,
      "metadata": {
        "id": "dVtEwdjPjxi0"
      },
      "outputs": [],
      "source": [
        "import matplotlib.pyplot as plt\n",
        "import cv2"
      ]
    },
    {
      "cell_type": "code",
      "execution_count": null,
      "metadata": {
        "colab": {
          "base_uri": "https://localhost:8080/"
        },
        "id": "EjZxiDP-jdNc",
        "outputId": "74d25035-7849-4c29-ebbe-b587df1018c1"
      },
      "outputs": [
        {
          "data": {
            "text/plain": [
              "(521,)"
            ]
          },
          "execution_count": 31,
          "metadata": {},
          "output_type": "execute_result"
        }
      ],
      "source": [
        "image_data.shape"
      ]
    },
    {
      "cell_type": "code",
      "execution_count": null,
      "metadata": {
        "colab": {
          "base_uri": "https://localhost:8080/",
          "height": 797
        },
        "id": "IBSITSx4jeqc",
        "outputId": "fc9e4ba8-cb25-413c-cf82-0b8926cac3b5"
      },
      "outputs": [
        {
          "data": {
            "text/html": [
              "\n",
              "  <div id=\"df-31bf273c-9a6c-48d5-92a3-cfe5eaac2d19\">\n",
              "    <div class=\"colab-df-container\">\n",
              "      <div>\n",
              "<style scoped>\n",
              "    .dataframe tbody tr th:only-of-type {\n",
              "        vertical-align: middle;\n",
              "    }\n",
              "\n",
              "    .dataframe tbody tr th {\n",
              "        vertical-align: top;\n",
              "    }\n",
              "\n",
              "    .dataframe thead th {\n",
              "        text-align: right;\n",
              "    }\n",
              "</style>\n",
              "<table border=\"1\" class=\"dataframe\">\n",
              "  <thead>\n",
              "    <tr style=\"text-align: right;\">\n",
              "      <th></th>\n",
              "      <th>Unnamed: 0</th>\n",
              "      <th>author</th>\n",
              "      <th>clean_title</th>\n",
              "      <th>created_utc</th>\n",
              "      <th>domain</th>\n",
              "      <th>num_comments</th>\n",
              "      <th>score</th>\n",
              "      <th>subreddit</th>\n",
              "      <th>title</th>\n",
              "      <th>upvote_ratio</th>\n",
              "      <th>2_way_label</th>\n",
              "      <th>3_way_label</th>\n",
              "      <th>6_way_label</th>\n",
              "    </tr>\n",
              "  </thead>\n",
              "  <tbody>\n",
              "    <tr>\n",
              "      <th>0</th>\n",
              "      <td>0</td>\n",
              "      <td>growingivy</td>\n",
              "      <td>sweet spider statue in des moines ia</td>\n",
              "      <td>1.570132e+09</td>\n",
              "      <td>i.redd.it</td>\n",
              "      <td>6.0</td>\n",
              "      <td>17</td>\n",
              "      <td>mildlyinteresting</td>\n",
              "      <td>Sweet spider statue in Des Moines, IA.</td>\n",
              "      <td>0.84</td>\n",
              "      <td>1</td>\n",
              "      <td>0</td>\n",
              "      <td>0</td>\n",
              "    </tr>\n",
              "    <tr>\n",
              "      <th>1</th>\n",
              "      <td>1</td>\n",
              "      <td>tedman1990</td>\n",
              "      <td>why dont you take a photo it lasts longer</td>\n",
              "      <td>1.414077e+09</td>\n",
              "      <td>NaN</td>\n",
              "      <td>NaN</td>\n",
              "      <td>48</td>\n",
              "      <td>psbattle_artwork</td>\n",
              "      <td>Why don't you take a photo, it lasts longer.</td>\n",
              "      <td>NaN</td>\n",
              "      <td>0</td>\n",
              "      <td>2</td>\n",
              "      <td>4</td>\n",
              "    </tr>\n",
              "    <tr>\n",
              "      <th>2</th>\n",
              "      <td>2</td>\n",
              "      <td>EarlESquirt</td>\n",
              "      <td>i was wondering what would beak first</td>\n",
              "      <td>1.388052e+09</td>\n",
              "      <td>NaN</td>\n",
              "      <td>NaN</td>\n",
              "      <td>360</td>\n",
              "      <td>psbattle_artwork</td>\n",
              "      <td>\"I was wondering what would beak first...\"</td>\n",
              "      <td>NaN</td>\n",
              "      <td>0</td>\n",
              "      <td>2</td>\n",
              "      <td>4</td>\n",
              "    </tr>\n",
              "    <tr>\n",
              "      <th>3</th>\n",
              "      <td>3</td>\n",
              "      <td>Panzerpup</td>\n",
              "      <td>lt george h w bush is shot down by the japanese</td>\n",
              "      <td>1.527452e+09</td>\n",
              "      <td>i.redd.it</td>\n",
              "      <td>1.0</td>\n",
              "      <td>11</td>\n",
              "      <td>fakehistoryporn</td>\n",
              "      <td>Lt. George H. W. Bush is shot down by the Japa...</td>\n",
              "      <td>0.93</td>\n",
              "      <td>0</td>\n",
              "      <td>2</td>\n",
              "      <td>2</td>\n",
              "    </tr>\n",
              "    <tr>\n",
              "      <th>4</th>\n",
              "      <td>4</td>\n",
              "      <td>ApiContraption</td>\n",
              "      <td>NaN</td>\n",
              "      <td>1.530592e+09</td>\n",
              "      <td>NaN</td>\n",
              "      <td>NaN</td>\n",
              "      <td>1</td>\n",
              "      <td>psbattle_artwork</td>\n",
              "      <td>NaN</td>\n",
              "      <td>NaN</td>\n",
              "      <td>0</td>\n",
              "      <td>2</td>\n",
              "      <td>4</td>\n",
              "    </tr>\n",
              "    <tr>\n",
              "      <th>...</th>\n",
              "      <td>...</td>\n",
              "      <td>...</td>\n",
              "      <td>...</td>\n",
              "      <td>...</td>\n",
              "      <td>...</td>\n",
              "      <td>...</td>\n",
              "      <td>...</td>\n",
              "      <td>...</td>\n",
              "      <td>...</td>\n",
              "      <td>...</td>\n",
              "      <td>...</td>\n",
              "      <td>...</td>\n",
              "      <td>...</td>\n",
              "    </tr>\n",
              "    <tr>\n",
              "      <th>516</th>\n",
              "      <td>516</td>\n",
              "      <td>hasangetinya</td>\n",
              "      <td>mom to the rescue dog saves her puppies from d...</td>\n",
              "      <td>1.450952e+09</td>\n",
              "      <td>rt.com</td>\n",
              "      <td>2.0</td>\n",
              "      <td>20</td>\n",
              "      <td>upliftingnews</td>\n",
              "      <td>Mom to the rescue: Dog saves her puppies from ...</td>\n",
              "      <td>0.83</td>\n",
              "      <td>1</td>\n",
              "      <td>0</td>\n",
              "      <td>0</td>\n",
              "    </tr>\n",
              "    <tr>\n",
              "      <th>517</th>\n",
              "      <td>517</td>\n",
              "      <td>Bira_Boshikage</td>\n",
              "      <td>this shop sells middle finger bottles</td>\n",
              "      <td>1.535818e+09</td>\n",
              "      <td>i.redd.it</td>\n",
              "      <td>3.0</td>\n",
              "      <td>12</td>\n",
              "      <td>mildlyinteresting</td>\n",
              "      <td>This shop sells middle finger bottles</td>\n",
              "      <td>0.81</td>\n",
              "      <td>1</td>\n",
              "      <td>0</td>\n",
              "      <td>0</td>\n",
              "    </tr>\n",
              "    <tr>\n",
              "      <th>518</th>\n",
              "      <td>518</td>\n",
              "      <td>quadroplegic</td>\n",
              "      <td>sit in my lap</td>\n",
              "      <td>1.406559e+09</td>\n",
              "      <td>i.imgur.com</td>\n",
              "      <td>0.0</td>\n",
              "      <td>2</td>\n",
              "      <td>pareidolia</td>\n",
              "      <td>Sit in my lap</td>\n",
              "      <td>0.67</td>\n",
              "      <td>0</td>\n",
              "      <td>2</td>\n",
              "      <td>2</td>\n",
              "    </tr>\n",
              "    <tr>\n",
              "      <th>519</th>\n",
              "      <td>519</td>\n",
              "      <td>DrWankalot</td>\n",
              "      <td>fuck u baby china number one</td>\n",
              "      <td>1.457354e+09</td>\n",
              "      <td>NaN</td>\n",
              "      <td>NaN</td>\n",
              "      <td>1367</td>\n",
              "      <td>psbattle_artwork</td>\n",
              "      <td>FUCK U BABY, CHINA NUMBER ONE!</td>\n",
              "      <td>NaN</td>\n",
              "      <td>0</td>\n",
              "      <td>2</td>\n",
              "      <td>4</td>\n",
              "    </tr>\n",
              "    <tr>\n",
              "      <th>520</th>\n",
              "      <td>520</td>\n",
              "      <td>blue_awning</td>\n",
              "      <td>blarts got a brand new ride</td>\n",
              "      <td>1.445347e+09</td>\n",
              "      <td>NaN</td>\n",
              "      <td>NaN</td>\n",
              "      <td>1871</td>\n",
              "      <td>psbattle_artwork</td>\n",
              "      <td>Blart's got a brand new ride</td>\n",
              "      <td>NaN</td>\n",
              "      <td>0</td>\n",
              "      <td>2</td>\n",
              "      <td>4</td>\n",
              "    </tr>\n",
              "  </tbody>\n",
              "</table>\n",
              "<p>521 rows × 13 columns</p>\n",
              "</div>\n",
              "      <button class=\"colab-df-convert\" onclick=\"convertToInteractive('df-31bf273c-9a6c-48d5-92a3-cfe5eaac2d19')\"\n",
              "              title=\"Convert this dataframe to an interactive table.\"\n",
              "              style=\"display:none;\">\n",
              "        \n",
              "  <svg xmlns=\"http://www.w3.org/2000/svg\" height=\"24px\"viewBox=\"0 0 24 24\"\n",
              "       width=\"24px\">\n",
              "    <path d=\"M0 0h24v24H0V0z\" fill=\"none\"/>\n",
              "    <path d=\"M18.56 5.44l.94 2.06.94-2.06 2.06-.94-2.06-.94-.94-2.06-.94 2.06-2.06.94zm-11 1L8.5 8.5l.94-2.06 2.06-.94-2.06-.94L8.5 2.5l-.94 2.06-2.06.94zm10 10l.94 2.06.94-2.06 2.06-.94-2.06-.94-.94-2.06-.94 2.06-2.06.94z\"/><path d=\"M17.41 7.96l-1.37-1.37c-.4-.4-.92-.59-1.43-.59-.52 0-1.04.2-1.43.59L10.3 9.45l-7.72 7.72c-.78.78-.78 2.05 0 2.83L4 21.41c.39.39.9.59 1.41.59.51 0 1.02-.2 1.41-.59l7.78-7.78 2.81-2.81c.8-.78.8-2.07 0-2.86zM5.41 20L4 18.59l7.72-7.72 1.47 1.35L5.41 20z\"/>\n",
              "  </svg>\n",
              "      </button>\n",
              "      \n",
              "  <style>\n",
              "    .colab-df-container {\n",
              "      display:flex;\n",
              "      flex-wrap:wrap;\n",
              "      gap: 12px;\n",
              "    }\n",
              "\n",
              "    .colab-df-convert {\n",
              "      background-color: #E8F0FE;\n",
              "      border: none;\n",
              "      border-radius: 50%;\n",
              "      cursor: pointer;\n",
              "      display: none;\n",
              "      fill: #1967D2;\n",
              "      height: 32px;\n",
              "      padding: 0 0 0 0;\n",
              "      width: 32px;\n",
              "    }\n",
              "\n",
              "    .colab-df-convert:hover {\n",
              "      background-color: #E2EBFA;\n",
              "      box-shadow: 0px 1px 2px rgba(60, 64, 67, 0.3), 0px 1px 3px 1px rgba(60, 64, 67, 0.15);\n",
              "      fill: #174EA6;\n",
              "    }\n",
              "\n",
              "    [theme=dark] .colab-df-convert {\n",
              "      background-color: #3B4455;\n",
              "      fill: #D2E3FC;\n",
              "    }\n",
              "\n",
              "    [theme=dark] .colab-df-convert:hover {\n",
              "      background-color: #434B5C;\n",
              "      box-shadow: 0px 1px 3px 1px rgba(0, 0, 0, 0.15);\n",
              "      filter: drop-shadow(0px 1px 2px rgba(0, 0, 0, 0.3));\n",
              "      fill: #FFFFFF;\n",
              "    }\n",
              "  </style>\n",
              "\n",
              "      <script>\n",
              "        const buttonEl =\n",
              "          document.querySelector('#df-31bf273c-9a6c-48d5-92a3-cfe5eaac2d19 button.colab-df-convert');\n",
              "        buttonEl.style.display =\n",
              "          google.colab.kernel.accessAllowed ? 'block' : 'none';\n",
              "\n",
              "        async function convertToInteractive(key) {\n",
              "          const element = document.querySelector('#df-31bf273c-9a6c-48d5-92a3-cfe5eaac2d19');\n",
              "          const dataTable =\n",
              "            await google.colab.kernel.invokeFunction('convertToInteractive',\n",
              "                                                     [key], {});\n",
              "          if (!dataTable) return;\n",
              "\n",
              "          const docLinkHtml = 'Like what you see? Visit the ' +\n",
              "            '<a target=\"_blank\" href=https://colab.research.google.com/notebooks/data_table.ipynb>data table notebook</a>'\n",
              "            + ' to learn more about interactive tables.';\n",
              "          element.innerHTML = '';\n",
              "          dataTable['output_type'] = 'display_data';\n",
              "          await google.colab.output.renderOutput(dataTable, element);\n",
              "          const docLink = document.createElement('div');\n",
              "          docLink.innerHTML = docLinkHtml;\n",
              "          element.appendChild(docLink);\n",
              "        }\n",
              "      </script>\n",
              "    </div>\n",
              "  </div>\n",
              "  "
            ],
            "text/plain": [
              "     Unnamed: 0          author  \\\n",
              "0             0      growingivy   \n",
              "1             1      tedman1990   \n",
              "2             2     EarlESquirt   \n",
              "3             3       Panzerpup   \n",
              "4             4  ApiContraption   \n",
              "..          ...             ...   \n",
              "516         516    hasangetinya   \n",
              "517         517  Bira_Boshikage   \n",
              "518         518    quadroplegic   \n",
              "519         519      DrWankalot   \n",
              "520         520     blue_awning   \n",
              "\n",
              "                                           clean_title   created_utc  \\\n",
              "0                 sweet spider statue in des moines ia  1.570132e+09   \n",
              "1            why dont you take a photo it lasts longer  1.414077e+09   \n",
              "2                i was wondering what would beak first  1.388052e+09   \n",
              "3      lt george h w bush is shot down by the japanese  1.527452e+09   \n",
              "4                                                  NaN  1.530592e+09   \n",
              "..                                                 ...           ...   \n",
              "516  mom to the rescue dog saves her puppies from d...  1.450952e+09   \n",
              "517              this shop sells middle finger bottles  1.535818e+09   \n",
              "518                                      sit in my lap  1.406559e+09   \n",
              "519                       fuck u baby china number one  1.457354e+09   \n",
              "520                        blarts got a brand new ride  1.445347e+09   \n",
              "\n",
              "          domain  num_comments  score          subreddit  \\\n",
              "0      i.redd.it           6.0     17  mildlyinteresting   \n",
              "1            NaN           NaN     48   psbattle_artwork   \n",
              "2            NaN           NaN    360   psbattle_artwork   \n",
              "3      i.redd.it           1.0     11    fakehistoryporn   \n",
              "4            NaN           NaN      1   psbattle_artwork   \n",
              "..           ...           ...    ...                ...   \n",
              "516       rt.com           2.0     20      upliftingnews   \n",
              "517    i.redd.it           3.0     12  mildlyinteresting   \n",
              "518  i.imgur.com           0.0      2         pareidolia   \n",
              "519          NaN           NaN   1367   psbattle_artwork   \n",
              "520          NaN           NaN   1871   psbattle_artwork   \n",
              "\n",
              "                                                 title  upvote_ratio  \\\n",
              "0               Sweet spider statue in Des Moines, IA.          0.84   \n",
              "1         Why don't you take a photo, it lasts longer.           NaN   \n",
              "2           \"I was wondering what would beak first...\"           NaN   \n",
              "3    Lt. George H. W. Bush is shot down by the Japa...          0.93   \n",
              "4                                                  NaN           NaN   \n",
              "..                                                 ...           ...   \n",
              "516  Mom to the rescue: Dog saves her puppies from ...          0.83   \n",
              "517              This shop sells middle finger bottles          0.81   \n",
              "518                                      Sit in my lap          0.67   \n",
              "519                     FUCK U BABY, CHINA NUMBER ONE!           NaN   \n",
              "520                       Blart's got a brand new ride           NaN   \n",
              "\n",
              "     2_way_label  3_way_label  6_way_label  \n",
              "0              1            0            0  \n",
              "1              0            2            4  \n",
              "2              0            2            4  \n",
              "3              0            2            2  \n",
              "4              0            2            4  \n",
              "..           ...          ...          ...  \n",
              "516            1            0            0  \n",
              "517            1            0            0  \n",
              "518            0            2            2  \n",
              "519            0            2            4  \n",
              "520            0            2            4  \n",
              "\n",
              "[521 rows x 13 columns]"
            ]
          },
          "execution_count": 32,
          "metadata": {},
          "output_type": "execute_result"
        }
      ],
      "source": [
        "labels"
      ]
    },
    {
      "cell_type": "code",
      "execution_count": null,
      "metadata": {
        "colab": {
          "base_uri": "https://localhost:8080/",
          "height": 257
        },
        "id": "YUfPctsXjqr7",
        "outputId": "01e71e18-f800-4388-f815-6d9324fb030e"
      },
      "outputs": [
        {
          "data": {
            "text/plain": [
              "<matplotlib.image.AxesImage at 0x7f30fe627b50>"
            ]
          },
          "execution_count": 40,
          "metadata": {},
          "output_type": "execute_result"
        },
        {
          "data": {
            "image/png": "[encoded data removed]",
            "text/plain": [
              "<Figure size 432x288 with 1 Axes>"
            ]
          },
          "metadata": {
            "needs_background": "light"
          },
          "output_type": "display_data"
        }
      ],
      "source": [
        "plt.imshow(image_data[353])"
      ]
    },
    {
      "cell_type": "code",
      "execution_count": null,
      "metadata": {
        "colab": {
          "base_uri": "https://localhost:8080/",
          "height": 286
        },
        "id": "XmaFkYydkXqb",
        "outputId": "a4a93b80-d3e6-4546-e309-38658630c812"
      },
      "outputs": [
        {
          "data": {
            "text/plain": [
              "<matplotlib.image.AxesImage at 0x7f30fe718b10>"
            ]
          },
          "execution_count": 41,
          "metadata": {},
          "output_type": "execute_result"
        },
        {
          "data": {
            "image/png": "[encoded data removed]",
            "text/plain": [
              "<Figure size 432x288 with 1 Axes>"
            ]
          },
          "metadata": {
            "needs_background": "light"
          },
          "output_type": "display_data"
        }
      ],
      "source": [
        "plt.imshow(image_data[124])"
      ]
    },
    {
      "cell_type": "code",
      "execution_count": null,
      "metadata": {
        "colab": {
          "base_uri": "https://localhost:8080/"
        },
        "id": "SUymbzBGkZnb",
        "outputId": "2b1bd4b3-ca3d-4e2e-e685-002f6492c162"
      },
      "outputs": [
        {
          "data": {
            "text/plain": [
              "array([[151, 121,  67],\n",
              "       [151, 121,  67],\n",
              "       [151, 121,  67],\n",
              "       ...,\n",
              "       [134, 102,  53],\n",
              "       [134, 102,  53],\n",
              "       [134, 102,  53]], dtype=uint8)"
            ]
          },
          "execution_count": 45,
          "metadata": {},
          "output_type": "execute_result"
        }
      ],
      "source": [
        "image_data[124][]"
      ]
    },
    {
      "cell_type": "code",
      "execution_count": null,
      "metadata": {
        "colab": {
          "base_uri": "https://localhost:8080/"
        },
        "id": "6nY7bjV1kfXk",
        "outputId": "f160b612-aefd-4227-db58-3ef491ee6423"
      },
      "outputs": [
        {
          "name": "stdout",
          "output_type": "stream",
          "text": [
            "Avg Height: 599.2456813819578\n",
            "Avg Width: 657.1765834932821\n"
          ]
        }
      ],
      "source": [
        "width_sum = 0\n",
        "height_sum = 0\n",
        "for image in image_data:\n",
        "  height_sum += image.shape[0]\n",
        "  width_sum += image.shape[1]\n",
        "print('Avg Height:', height_sum/521)\n",
        "print('Avg Width:', width_sum/521)"
      ]
    }
  ],
  "metadata": {
    "colab": {
      "collapsed_sections": [],
      "provenance": []
    },
    "kernelspec": {
      "display_name": "Python 3.10.2 64-bit",
      "language": "python",
      "name": "python3"
    },
    "language_info": {
      "name": "python",
      "version": "3.10.2 (tags/v3.10.2:a58ebcc, Jan 17 2022, 14:12:15) [MSC v.1929 64 bit (AMD64)]"
    },
    "vscode": {
      "interpreter": {
        "hash": "369f2c481f4da34e4445cda3fffd2e751bd1c4d706f27375911949ba6bb62e1c"
      }
    }
  },
  "nbformat": 4,
  "nbformat_minor": 0
}
